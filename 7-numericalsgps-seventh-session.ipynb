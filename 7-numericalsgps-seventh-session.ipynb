{
 "cells": [
  {
   "cell_type": "markdown",
   "id": "e3fcf85b",
   "metadata": {},
   "source": [
    "# `NumericalSgps` an introduction - SSC 2023"
   ]
  },
  {
   "cell_type": "markdown",
   "id": "31c440fa",
   "metadata": {},
   "source": [
    "## Ideals of numerical semigroups\n",
    "\n",
    "Let $S$ be a numerical semigroup. A subset $I$ of $\\mathbb{Z}$ is an *ideal* of $S$ if $I+S\\subseteq I$ and there exists $s\\in S$ such that $s+I\\subseteq S$ (this last condition is equivalent to saying that $I$ has a minimum).\n",
    "\n",
    "There are a couple of \"standard\" ideals of $S$. The maximal ideal, $S^*$, and the *standard canonical ideal* \n",
    "\n",
    "$$\n",
    "\\operatorname{K}(S)=\\{z \\in \\mathbb{Z} : \\operatorname{F}(S)-z\\not\\in S\\}.\n",
    "$$\n",
    "\n",
    "As with numerical semigroup, we can depict the elements of an ideal via its small elements $\\{s_1,\\dots,s_n\\}$ such that $I=\\{s_1,\\dots,s_n,\\to\\}$, with $s_n$ the conductor of the ideal, which is the smallest integer $c$ in $I$ such that $c+\\mathbb{N}\\subseteq I$."
   ]
  },
  {
   "cell_type": "code",
   "execution_count": 2,
   "id": "f60d303b",
   "metadata": {},
   "outputs": [
    {
     "data": {
      "text/plain": [
       "true"
      ]
     },
     "execution_count": 2,
     "metadata": {
      "text/plain": ""
     },
     "output_type": "execute_result"
    }
   ],
   "source": [
    "LoadPackage(\"num\");"
   ]
  },
  {
   "cell_type": "code",
   "execution_count": 5,
   "id": "a54e5db7",
   "metadata": {},
   "outputs": [
    {
     "data": {
      "text/plain": [
       "[ 6, 9, 11, 12, 15, 17, 18, 20, 21, 22, 23, 24, 26 ]"
      ]
     },
     "execution_count": 5,
     "metadata": {
      "text/plain": ""
     },
     "output_type": "execute_result"
    }
   ],
   "source": [
    "s:=NumericalSemigroup(6,9,11);;\n",
    "m:=MaximalIdeal(s);;\n",
    "SmallElements(m);"
   ]
  },
  {
   "cell_type": "code",
   "execution_count": 7,
   "id": "5415cdc1",
   "metadata": {},
   "outputs": [
    {
     "data": {
      "text/plain": [
       "[ 0, 6, 9, 11, 12, 15, 17, 18, 20, 21, 22, 23, 24, 26 ]"
      ]
     },
     "execution_count": 7,
     "metadata": {
      "text/plain": ""
     },
     "output_type": "execute_result"
    }
   ],
   "source": [
    "k:=CanonicalIdeal(s);;\n",
    "SmallElements(k);"
   ]
  },
  {
   "cell_type": "code",
   "execution_count": 8,
   "id": "16d04a7a",
   "metadata": {},
   "outputs": [
    {
     "data": {
      "text/plain": [
       "true"
      ]
     },
     "execution_count": 8,
     "metadata": {
      "text/plain": ""
     },
     "output_type": "execute_result"
    }
   ],
   "source": [
    "k=0+s;"
   ]
  },
  {
   "cell_type": "markdown",
   "id": "b437f39c",
   "metadata": {},
   "source": [
    "It is easy to see that $\\operatorname{K}(S)=S$ if and only if $S$ is symmetric."
   ]
  },
  {
   "cell_type": "markdown",
   "id": "c4b26060",
   "metadata": {},
   "source": [
    "The Frobenius number of $I$ is defined as $\\max(\\mathbb{Z}\\setminus I)$."
   ]
  },
  {
   "cell_type": "code",
   "execution_count": 9,
   "id": "6c518499",
   "metadata": {},
   "outputs": [
    {
     "data": {
      "text/plain": [
       "25"
      ]
     },
     "execution_count": 9,
     "metadata": {
      "text/plain": ""
     },
     "output_type": "execute_result"
    }
   ],
   "source": [
    "FrobeniusNumber(k);"
   ]
  },
  {
   "cell_type": "code",
   "execution_count": 10,
   "id": "8ed2fa65",
   "metadata": {},
   "outputs": [
    {
     "data": {
      "text/plain": [
       "25"
      ]
     },
     "execution_count": 10,
     "metadata": {
      "text/plain": ""
     },
     "output_type": "execute_result"
    }
   ],
   "source": [
    "FrobeniusNumber(s);"
   ]
  },
  {
   "cell_type": "markdown",
   "id": "71cc6429",
   "metadata": {},
   "source": [
    "If $I$ is an ideal, so is any of its translates by an integer. We say that two ideals $I$ and $J$ are equivalent if there is an integer $z$ such that $I=z+J$."
   ]
  },
  {
   "cell_type": "code",
   "execution_count": 11,
   "id": "292a5847",
   "metadata": {},
   "outputs": [
    {
     "data": {
      "text/plain": [
       "<Ideal of numerical semigroup>"
      ]
     },
     "execution_count": 11,
     "metadata": {
      "text/plain": ""
     },
     "output_type": "execute_result"
    }
   ],
   "source": [
    "10+k;"
   ]
  },
  {
   "cell_type": "markdown",
   "id": "952afffc",
   "metadata": {},
   "source": [
    "We can translate every ideal so that its minimum is zero in the following way:"
   ]
  },
  {
   "cell_type": "code",
   "execution_count": 13,
   "id": "9495464c",
   "metadata": {},
   "outputs": [
    {
     "data": {
      "text/plain": [
       "<Ideal of numerical semigroup>"
      ]
     },
     "execution_count": 12,
     "metadata": {
      "text/plain": ""
     },
     "output_type": "execute_result"
    },
    {
     "data": {
      "text/plain": [
       "[ 0, 3, 5, 6, 9, 11, 12, 14, 15, 16, 17, 18, 20 ]"
      ]
     },
     "execution_count": 13,
     "metadata": {
      "text/plain": ""
     },
     "output_type": "execute_result"
    }
   ],
   "source": [
    "m0:=-Minimum(m)+m;\n",
    "SmallElements(m0);"
   ]
  },
  {
   "cell_type": "markdown",
   "id": "f1f2bdcd",
   "metadata": {},
   "source": [
    "Or we can translate an ideal so that it has the same Frobenius number has its ambient semigroup."
   ]
  },
  {
   "cell_type": "code",
   "execution_count": 14,
   "id": "79ecf2a5",
   "metadata": {},
   "outputs": [
    {
     "data": {
      "text/plain": [
       "function( i ) ... end"
      ]
     },
     "execution_count": 14,
     "metadata": {
      "text/plain": ""
     },
     "output_type": "execute_result"
    }
   ],
   "source": [
    "tilde:=i->i+FrobeniusNumber(AmbientNumericalSemigroupOfIdeal(i))-FrobeniusNumber(i);"
   ]
  },
  {
   "cell_type": "markdown",
   "id": "7823abc9",
   "metadata": {},
   "source": [
    "`AmbientNumericalSemigroupOfIdeal` outputs the ambient semigroup of an ideal."
   ]
  },
  {
   "cell_type": "code",
   "execution_count": 15,
   "id": "f69c4548",
   "metadata": {},
   "outputs": [
    {
     "data": {
      "text/plain": [
       "[ 6, 9, 11, 12, 15, 17, 18, 20, 21, 22, 23, 24, 26 ]"
      ]
     },
     "execution_count": 15,
     "metadata": {
      "text/plain": ""
     },
     "output_type": "execute_result"
    }
   ],
   "source": [
    "SmallElements(tilde(m));"
   ]
  },
  {
   "cell_type": "code",
   "execution_count": 16,
   "id": "a62e642f",
   "metadata": {},
   "outputs": [
    {
     "data": {
      "text/plain": [
       "true"
      ]
     },
     "execution_count": 16,
     "metadata": {
      "text/plain": ""
     },
     "output_type": "execute_result"
    }
   ],
   "source": [
    "tilde(m)=m;"
   ]
  },
  {
   "cell_type": "markdown",
   "id": "86cfc439",
   "metadata": {},
   "source": [
    "The ideal `tilde(I)` has the property that it contains $\\operatorname{C}(S)+\\mathbb{N}$ and it is contained in the standard canonical ideal of $S$."
   ]
  },
  {
   "cell_type": "code",
   "execution_count": 17,
   "id": "15a3a568",
   "metadata": {},
   "outputs": [
    {
     "data": {
      "text/plain": [
       "true"
      ]
     },
     "execution_count": 17,
     "metadata": {
      "text/plain": ""
     },
     "output_type": "execute_result"
    }
   ],
   "source": [
    "IsSubset(k,tilde(m));"
   ]
  },
  {
   "cell_type": "markdown",
   "id": "5788c2c4",
   "metadata": {},
   "source": [
    "Notice that if $X$ is a finite subset of integers, then $X+S=\\bigcup_{x\\in X} x+S$ is an ideal of $S$."
   ]
  },
  {
   "cell_type": "code",
   "execution_count": 18,
   "id": "d3d1df82",
   "metadata": {},
   "outputs": [
    {
     "data": {
      "text/plain": [
       "<Ideal of numerical semigroup>"
      ]
     },
     "execution_count": 18,
     "metadata": {
      "text/plain": ""
     },
     "output_type": "execute_result"
    }
   ],
   "source": [
    "i:=[0,3]+s;"
   ]
  },
  {
   "cell_type": "code",
   "execution_count": 19,
   "id": "89d73973",
   "metadata": {},
   "outputs": [
    {
     "data": {
      "text/plain": [
       "[ 0, 3, 6, 9, 11, 12, 14, 15, 17, 18, 20 ]"
      ]
     },
     "execution_count": 19,
     "metadata": {
      "text/plain": ""
     },
     "output_type": "execute_result"
    }
   ],
   "source": [
    "SmallElements(i);"
   ]
  },
  {
   "cell_type": "markdown",
   "id": "10d8e220",
   "metadata": {},
   "source": [
    "As a matter of fact, every ideal of $S$ is of this form."
   ]
  },
  {
   "cell_type": "markdown",
   "id": "35aafbda",
   "metadata": {},
   "source": [
    "Let $I$ be an ideal, and let $i_0=\\min(I)$. Then $i_0+S\\subseteq I$. Take $i_1=\\min(I\\setminus (i_0+S))$. Then $i_1$ is not congruent with $i_0$ módulo $\\operatorname{m}(S)$, since $i_0+k\\operatorname{m}(S)\\in i_0+S$ for all $k\\in\\mathbb{N}$. We can define $i_{k+1}=\\min(I\\setminus \\bigcup_{j=0}^k (i_j+S))$, whenever $I\\setminus \\bigcup_{j=0}^k (i_j+S)$ is not empty. As every new $i_k$ is not congruent with the previous ones modulo $\\operatorname{m}(S)$, we have that at some point $I\\setminus \\bigcup_{j=0}^l (i_j+S)$ is empty. In this way, \n",
    "\n",
    "$$\n",
    "I=\\{i_0,\\dots,i_l\\}+S.\n",
    "$$\n",
    "\n",
    "\n",
    "\n",
    "The elements $\\{i_0,\\dots,i_l\\}$ are a *minimal generating* set of $I$.\n",
    "\n",
    "An ideal is principal if it is of the form $x+S$."
   ]
  },
  {
   "cell_type": "code",
   "execution_count": 20,
   "id": "1e99dc0a",
   "metadata": {
    "scrolled": true
   },
   "outputs": [
    {
     "data": {
      "text/plain": [
       "[ 6, 9, 11 ]"
      ]
     },
     "execution_count": 20,
     "metadata": {
      "text/plain": ""
     },
     "output_type": "execute_result"
    }
   ],
   "source": [
    "MinimalGenerators(m);"
   ]
  },
  {
   "cell_type": "code",
   "execution_count": 21,
   "id": "73c500b6",
   "metadata": {},
   "outputs": [
    {
     "data": {
      "text/plain": [
       "[ 0 ]"
      ]
     },
     "execution_count": 21,
     "metadata": {
      "text/plain": ""
     },
     "output_type": "execute_result"
    }
   ],
   "source": [
    "MinimalGenerators(k);"
   ]
  },
  {
   "cell_type": "markdown",
   "id": "812fd9ce",
   "metadata": {},
   "source": [
    "Minimal generators of $I$ can be obtained by computing $I\\setminus(M+I)$, with $M=S\\setminus\\{0\\}$."
   ]
  },
  {
   "cell_type": "code",
   "execution_count": 22,
   "id": "f8118d5f",
   "metadata": {},
   "outputs": [
    {
     "data": {
      "text/plain": [
       "[ 0, 3 ]"
      ]
     },
     "execution_count": 22,
     "metadata": {
      "text/plain": ""
     },
     "output_type": "execute_result"
    }
   ],
   "source": [
    "Difference(i,m+i);"
   ]
  },
  {
   "cell_type": "markdown",
   "id": "d27470ef",
   "metadata": {},
   "source": [
    "## Basic operations"
   ]
  },
  {
   "cell_type": "markdown",
   "id": "1107478a",
   "metadata": {},
   "source": [
    "We have seen that translates of ideals by integers are idals. Intersections and unions of ideals are ideals. Also the sum of two ideals is an ideal."
   ]
  },
  {
   "cell_type": "code",
   "execution_count": 23,
   "id": "b5fbc5d0",
   "metadata": {},
   "outputs": [
    {
     "data": {
      "text/plain": [
       "<Ideal of numerical semigroup>"
      ]
     },
     "execution_count": 23,
     "metadata": {
      "text/plain": ""
     },
     "output_type": "execute_result"
    }
   ],
   "source": [
    "5+i;"
   ]
  },
  {
   "cell_type": "code",
   "execution_count": 25,
   "id": "d88b202c",
   "metadata": {},
   "outputs": [],
   "source": [
    "i:=[0,3]+s;;\n",
    "j:=[2,5]+s;;"
   ]
  },
  {
   "cell_type": "code",
   "execution_count": 26,
   "id": "41e59a18",
   "metadata": {},
   "outputs": [
    {
     "data": {
      "text/plain": [
       "<Ideal of numerical semigroup>"
      ]
     },
     "execution_count": 26,
     "metadata": {
      "text/plain": ""
     },
     "output_type": "execute_result"
    }
   ],
   "source": [
    "Intersection(i,j);"
   ]
  },
  {
   "cell_type": "code",
   "execution_count": 27,
   "id": "ea311340",
   "metadata": {},
   "outputs": [
    {
     "data": {
      "text/plain": [
       "<Ideal of numerical semigroup>"
      ]
     },
     "execution_count": 27,
     "metadata": {
      "text/plain": ""
     },
     "output_type": "execute_result"
    }
   ],
   "source": [
    "Union(i,j);"
   ]
  },
  {
   "cell_type": "code",
   "execution_count": 28,
   "id": "5e507e88",
   "metadata": {},
   "outputs": [
    {
     "data": {
      "text/plain": [
       "<Ideal of numerical semigroup>"
      ]
     },
     "execution_count": 28,
     "metadata": {
      "text/plain": ""
     },
     "output_type": "execute_result"
    }
   ],
   "source": [
    "i+j;"
   ]
  },
  {
   "cell_type": "markdown",
   "id": "86ed45ed",
   "metadata": {},
   "source": [
    "In particular, $nI$ represents $I+\\dots+I$ ($n$ times)."
   ]
  },
  {
   "cell_type": "code",
   "execution_count": 29,
   "id": "c2a76ab7",
   "metadata": {},
   "outputs": [
    {
     "data": {
      "text/plain": [
       "true"
      ]
     },
     "execution_count": 29,
     "metadata": {
      "text/plain": ""
     },
     "output_type": "execute_result"
    }
   ],
   "source": [
    "2*i=i+i;"
   ]
  },
  {
   "cell_type": "markdown",
   "id": "228493c9",
   "metadata": {},
   "source": [
    "Given two ideals $I$ and $J$, the set \n",
    "\n",
    "$$\n",
    "I-J=\\{z \\in \\mathbb{Z} : z+J\\subseteq I\\}\n",
    "$$\n",
    "\n",
    "is an ideal."
   ]
  },
  {
   "cell_type": "code",
   "execution_count": 30,
   "id": "964dec68",
   "metadata": {},
   "outputs": [
    {
     "data": {
      "text/plain": [
       "<Ideal of numerical semigroup>"
      ]
     },
     "execution_count": 30,
     "metadata": {
      "text/plain": ""
     },
     "output_type": "execute_result"
    }
   ],
   "source": [
    "i-j;"
   ]
  },
  {
   "cell_type": "code",
   "execution_count": 31,
   "id": "e72cf25c",
   "metadata": {},
   "outputs": [
    {
     "data": {
      "text/plain": [
       "[ -2, 1, 4, 7, 9, 10, 12, 13, 15, 16, 18 ]"
      ]
     },
     "execution_count": 31,
     "metadata": {
      "text/plain": ""
     },
     "output_type": "execute_result"
    }
   ],
   "source": [
    "SmallElements(i-j);"
   ]
  },
  {
   "cell_type": "markdown",
   "id": "75fab6d6",
   "metadata": {},
   "source": [
    "The *trace ideal* of $S$ is defined as $K+(S-K)$."
   ]
  },
  {
   "cell_type": "code",
   "execution_count": 32,
   "id": "7bc98f99",
   "metadata": {},
   "outputs": [
    {
     "data": {
      "text/plain": [
       "<Ideal of numerical semigroup>"
      ]
     },
     "execution_count": 32,
     "metadata": {
      "text/plain": ""
     },
     "output_type": "execute_result"
    }
   ],
   "source": [
    "TraceIdeal(s);"
   ]
  },
  {
   "cell_type": "markdown",
   "id": "426f31c6",
   "metadata": {},
   "source": [
    "## Some other notable elements\n",
    "\n",
    "We have defined already what the conductor, Frobenius number and minimal generators. We can, as in the case of numerical semigroups define the concepts of Apéry set, genus and type."
   ]
  },
  {
   "cell_type": "code",
   "execution_count": 34,
   "id": "9e9e58fa",
   "metadata": {},
   "outputs": [
    {
     "data": {
      "text/plain": [
       "[ 0, 3, 6, 9, 11, 12, 14, 15, 17, 18, 20 ]"
      ]
     },
     "execution_count": 34,
     "metadata": {
      "text/plain": ""
     },
     "output_type": "execute_result"
    }
   ],
   "source": [
    "SmallElements(i);"
   ]
  },
  {
   "cell_type": "code",
   "execution_count": 35,
   "id": "05a5625c",
   "metadata": {
    "scrolled": false
   },
   "outputs": [
    {
     "data": {
      "text/plain": [
       "[ 0, 28, 11, 3, 22, 14, 6, 25, 17 ]"
      ]
     },
     "execution_count": 35,
     "metadata": {
      "text/plain": ""
     },
     "output_type": "execute_result"
    }
   ],
   "source": [
    "AperyList(i,9);"
   ]
  },
  {
   "cell_type": "markdown",
   "id": "21cd67a7",
   "metadata": {},
   "source": [
    "Apéry lists in `numericalsgps` for ideals are only defined for elements in the ambient numerical semigroup."
   ]
  },
  {
   "cell_type": "markdown",
   "id": "f9d26050",
   "metadata": {},
   "source": [
    "If no second argument is given, the Apéry set is computed with respect to $\\operatorname{m}(S)$."
   ]
  },
  {
   "cell_type": "code",
   "execution_count": 36,
   "id": "533803c2",
   "metadata": {},
   "outputs": [
    {
     "data": {
      "text/plain": [
       "[ 0, 25, 14, 3, 22, 11 ]"
      ]
     },
     "execution_count": 36,
     "metadata": {
      "text/plain": ""
     },
     "output_type": "execute_result"
    }
   ],
   "source": [
    "AperyList(i);"
   ]
  },
  {
   "cell_type": "markdown",
   "id": "759ed1fb",
   "metadata": {},
   "source": [
    "The idea of Apery list can be captured by using set difference. Though the output is not sorted in the same way as `AperyList`."
   ]
  },
  {
   "cell_type": "code",
   "execution_count": 37,
   "id": "197ad74c",
   "metadata": {},
   "outputs": [
    {
     "data": {
      "text/plain": [
       "[ 0, 3, 11, 14, 22, 25 ]"
      ]
     },
     "execution_count": 37,
     "metadata": {
      "text/plain": ""
     },
     "output_type": "execute_result"
    }
   ],
   "source": [
    "Difference(i,6+i);"
   ]
  },
  {
   "cell_type": "code",
   "execution_count": 38,
   "id": "66714911",
   "metadata": {
    "scrolled": false
   },
   "outputs": [
    {
     "data": {
      "text/plain": [
       "[ 0, 11, 22 ]"
      ]
     },
     "execution_count": 38,
     "metadata": {
      "text/plain": ""
     },
     "output_type": "execute_result"
    }
   ],
   "source": [
    "Difference(i,3+i);"
   ]
  },
  {
   "cell_type": "code",
   "execution_count": 39,
   "id": "b6ed026c",
   "metadata": {},
   "outputs": [
    {
     "data": {
      "text/plain": [
       "[ 3, 14, 25 ]"
      ]
     },
     "execution_count": 39,
     "metadata": {
      "text/plain": ""
     },
     "output_type": "execute_result"
    }
   ],
   "source": [
    "Difference(i,0+s);"
   ]
  },
  {
   "cell_type": "code",
   "execution_count": 40,
   "id": "8877195c",
   "metadata": {},
   "outputs": [
    {
     "data": {
      "text/plain": [
       "[ 0, 3, 6, 9, 11, 12, 15, 18, 21, 22, 24, 27, 30, 33 ]"
      ]
     },
     "execution_count": 40,
     "metadata": {
      "text/plain": ""
     },
     "output_type": "execute_result"
    }
   ],
   "source": [
    "Difference(i,i+14);"
   ]
  },
  {
   "cell_type": "code",
   "execution_count": 41,
   "id": "84f4016e",
   "metadata": {},
   "outputs": [
    {
     "data": {
      "text/plain": [
       "14"
      ]
     },
     "execution_count": 41,
     "metadata": {
      "text/plain": ""
     },
     "output_type": "execute_result"
    }
   ],
   "source": [
    "Length(Difference(i,i+14));"
   ]
  },
  {
   "cell_type": "code",
   "execution_count": 42,
   "id": "7645259b",
   "metadata": {},
   "outputs": [
    {
     "data": {
      "text/plain": [
       "[ 0, 3, 6, 9, 12, 15, 18, 21 ]"
      ]
     },
     "execution_count": 42,
     "metadata": {
      "text/plain": ""
     },
     "output_type": "execute_result"
    }
   ],
   "source": [
    "Difference(i,2+i);"
   ]
  },
  {
   "cell_type": "code",
   "execution_count": 36,
   "id": "5b236d9e",
   "metadata": {},
   "outputs": [
    {
     "data": {
      "text/plain": [
       "[ 0, 6, 9, 12, 15, 18, 24 ]"
      ]
     },
     "execution_count": 36,
     "metadata": {
      "text/plain": ""
     },
     "output_type": "execute_result"
    }
   ],
   "source": [
    "AperyList(s,-1);"
   ]
  },
  {
   "cell_type": "markdown",
   "id": "7d2c7edc",
   "metadata": {},
   "source": [
    "The genus of an ideal $I$ is defined as $|(\\min(I)+\\mathbb{N})\\setminus I|$."
   ]
  },
  {
   "cell_type": "code",
   "execution_count": 43,
   "id": "92d5cef3",
   "metadata": {},
   "outputs": [
    {
     "data": {
      "text/plain": [
       "10"
      ]
     },
     "execution_count": 43,
     "metadata": {
      "text/plain": ""
     },
     "output_type": "execute_result"
    }
   ],
   "source": [
    "Length(Difference([Minimum(i)..Conductor(i)],SmallElements(i)));"
   ]
  },
  {
   "cell_type": "markdown",
   "id": "97bb7851",
   "metadata": {},
   "source": [
    "The type of $I$ is defined as $|(I-M)\\setminus I|$ with $M=S\\setminus\\{0\\}$. The set $(I-M)\\setminus I$ is the set of pseudo-Frobenius numbers of $I$."
   ]
  },
  {
   "cell_type": "code",
   "execution_count": 44,
   "id": "61700ebf",
   "metadata": {},
   "outputs": [
    {
     "data": {
      "text/plain": [
       "2"
      ]
     },
     "execution_count": 44,
     "metadata": {
      "text/plain": ""
     },
     "output_type": "execute_result"
    }
   ],
   "source": [
    "Type(i);"
   ]
  },
  {
   "cell_type": "code",
   "execution_count": 45,
   "id": "63fc22b6",
   "metadata": {},
   "outputs": [
    {
     "data": {
      "text/plain": [
       "[ 16, 19 ]"
      ]
     },
     "execution_count": 45,
     "metadata": {
      "text/plain": ""
     },
     "output_type": "execute_result"
    }
   ],
   "source": [
    "PseudoFrobenius(i);"
   ]
  },
  {
   "cell_type": "markdown",
   "id": "e004faa9",
   "metadata": {},
   "source": [
    "The type of the standard canonical ideal is always one."
   ]
  },
  {
   "cell_type": "code",
   "execution_count": 46,
   "id": "b61a0a4b",
   "metadata": {},
   "outputs": [
    {
     "data": {
      "text/plain": [
       "1"
      ]
     },
     "execution_count": 46,
     "metadata": {
      "text/plain": ""
     },
     "output_type": "execute_result"
    }
   ],
   "source": [
    "Type(k);"
   ]
  },
  {
   "cell_type": "markdown",
   "id": "9decabf2",
   "metadata": {},
   "source": [
    "While the type of the maximal ideal is one plus the type of the semigroup."
   ]
  },
  {
   "cell_type": "code",
   "execution_count": 47,
   "id": "77dc39bb",
   "metadata": {},
   "outputs": [
    {
     "data": {
      "text/plain": [
       "2"
      ]
     },
     "execution_count": 47,
     "metadata": {
      "text/plain": ""
     },
     "output_type": "execute_result"
    }
   ],
   "source": [
    "Type(m);"
   ]
  },
  {
   "cell_type": "code",
   "execution_count": 48,
   "id": "84fb3ebc",
   "metadata": {},
   "outputs": [
    {
     "data": {
      "text/plain": [
       "1"
      ]
     },
     "execution_count": 48,
     "metadata": {
      "text/plain": ""
     },
     "output_type": "execute_result"
    }
   ],
   "source": [
    "Type(s);"
   ]
  },
  {
   "cell_type": "code",
   "execution_count": 49,
   "id": "2587ff1c",
   "metadata": {},
   "outputs": [
    {
     "data": {
      "text/plain": [
       "[ 0, 25 ]"
      ]
     },
     "execution_count": 49,
     "metadata": {
      "text/plain": ""
     },
     "output_type": "execute_result"
    }
   ],
   "source": [
    "PseudoFrobenius(m);"
   ]
  },
  {
   "cell_type": "markdown",
   "id": "115d15ba",
   "metadata": {},
   "source": [
    "Every ideal $I$ can be decomposed as an intersection of irreducible ideals (those that cannot be expressed as intersection of other ideals properly containing them). This decomposition is unique and contains precisely $\\operatorname{t}(I)$ irreducible ideals."
   ]
  },
  {
   "cell_type": "code",
   "execution_count": 50,
   "id": "2ec1a3fa",
   "metadata": {},
   "outputs": [
    {
     "data": {
      "text/plain": [
       "2"
      ]
     },
     "execution_count": 50,
     "metadata": {
      "text/plain": ""
     },
     "output_type": "execute_result"
    }
   ],
   "source": [
    "Type(i);"
   ]
  },
  {
   "cell_type": "code",
   "execution_count": 51,
   "id": "c966be51",
   "metadata": {},
   "outputs": [
    {
     "data": {
      "text/plain": [
       "[ <Ideal of numerical semigroup>, <Ideal of numerical semigroup> ]"
      ]
     },
     "execution_count": 51,
     "metadata": {
      "text/plain": ""
     },
     "output_type": "execute_result"
    }
   ],
   "source": [
    "IrreducibleZComponents(i);"
   ]
  },
  {
   "cell_type": "code",
   "execution_count": 52,
   "id": "b1ab5cba",
   "metadata": {},
   "outputs": [
    {
     "data": {
      "text/plain": [
       "true"
      ]
     },
     "execution_count": 52,
     "metadata": {
      "text/plain": ""
     },
     "output_type": "execute_result"
    }
   ],
   "source": [
    "i=Intersection(IrreducibleZComponents(i));"
   ]
  },
  {
   "cell_type": "markdown",
   "id": "46ebe3a3",
   "metadata": {},
   "source": [
    "## Ideals as infinite lists of integers"
   ]
  },
  {
   "cell_type": "markdown",
   "id": "abb7ea89",
   "metadata": {},
   "source": [
    "Ideals are lists of integers, and as such we can obtain an element in a specific position, a range of elements, or even intersect them with other lists of integers."
   ]
  },
  {
   "cell_type": "code",
   "execution_count": 54,
   "id": "d4c0e1eb",
   "metadata": {},
   "outputs": [
    {
     "data": {
      "text/plain": [
       "[ 0, 3, 6, 9, 11, 12, 14, 15, 17, 18, 20 ]"
      ]
     },
     "execution_count": 54,
     "metadata": {
      "text/plain": ""
     },
     "output_type": "execute_result"
    }
   ],
   "source": [
    "SmallElements(i);"
   ]
  },
  {
   "cell_type": "code",
   "execution_count": 55,
   "id": "c3cbe659",
   "metadata": {
    "scrolled": true
   },
   "outputs": [
    {
     "data": {
      "text/plain": [
       "0"
      ]
     },
     "execution_count": 55,
     "metadata": {
      "text/plain": ""
     },
     "output_type": "execute_result"
    }
   ],
   "source": [
    "i[1];"
   ]
  },
  {
   "cell_type": "code",
   "execution_count": 56,
   "id": "d4c3dc8d",
   "metadata": {},
   "outputs": [
    {
     "data": {
      "text/plain": [
       "9"
      ]
     },
     "execution_count": 56,
     "metadata": {
      "text/plain": ""
     },
     "output_type": "execute_result"
    }
   ],
   "source": [
    "i[4];"
   ]
  },
  {
   "cell_type": "code",
   "execution_count": 57,
   "id": "6ac071b2",
   "metadata": {},
   "outputs": [
    {
     "data": {
      "text/plain": [
       "[ 18, 20, 21, 22, 23, 24, 25, 26, 27, 28, 29 ]"
      ]
     },
     "execution_count": 57,
     "metadata": {
      "text/plain": ""
     },
     "output_type": "execute_result"
    }
   ],
   "source": [
    "i{[10..20]};"
   ]
  },
  {
   "cell_type": "code",
   "execution_count": 58,
   "id": "c2b85a8d",
   "metadata": {},
   "outputs": [
    {
     "data": {
      "text/plain": [
       "[ 0, 3, 6, 9, 11, 12, 14, 15, 17, 18, 20 ]"
      ]
     },
     "execution_count": 58,
     "metadata": {
      "text/plain": ""
     },
     "output_type": "execute_result"
    }
   ],
   "source": [
    "Intersection(i,[0..20]);"
   ]
  },
  {
   "cell_type": "markdown",
   "id": "3e4029a9",
   "metadata": {},
   "source": [
    "Membership is performed as in list (thogh the imlementation is slightly different)."
   ]
  },
  {
   "cell_type": "code",
   "execution_count": 66,
   "id": "80145bfb",
   "metadata": {},
   "outputs": [
    {
     "data": {
      "text/plain": [
       "true"
      ]
     },
     "execution_count": 66,
     "metadata": {
      "text/plain": ""
     },
     "output_type": "execute_result"
    }
   ],
   "source": [
    "3 in i;"
   ]
  },
  {
   "cell_type": "code",
   "execution_count": 65,
   "id": "9716dea6",
   "metadata": {},
   "outputs": [
    {
     "data": {
      "text/plain": [
       "false"
      ]
     },
     "execution_count": 65,
     "metadata": {
      "text/plain": ""
     },
     "output_type": "execute_result"
    }
   ],
   "source": [
    "2 in i;"
   ]
  },
  {
   "cell_type": "code",
   "execution_count": 74,
   "id": "68199f28",
   "metadata": {},
   "outputs": [
    {
     "data": {
      "text/plain": [
       "[ 0, 3, 6 ]"
      ]
     },
     "execution_count": 74,
     "metadata": {
      "text/plain": ""
     },
     "output_type": "execute_result"
    }
   ],
   "source": [
    "s:=NumericalSemigroup(3,5,7);;\n",
    "i:=2+s;;\n",
    "Difference(0+s,i); #Difference(s,i) will not work"
   ]
  },
  {
   "cell_type": "markdown",
   "id": "dc1f58b7",
   "metadata": {},
   "source": [
    "## Integral ideals\n",
    "\n",
    "An ideal $I$ of $S$ is said to be integral if $I\\subseteq S$. "
   ]
  },
  {
   "cell_type": "code",
   "execution_count": 61,
   "id": "cc8a9571",
   "metadata": {},
   "outputs": [
    {
     "data": {
      "text/plain": [
       "false"
      ]
     },
     "execution_count": 61,
     "metadata": {
      "text/plain": ""
     },
     "output_type": "execute_result"
    }
   ],
   "source": [
    "s:=NumericalSemigroup(4,6,9);;\n",
    "i:=[0,2]+s;;\n",
    "IsIntegral(i);"
   ]
  },
  {
   "cell_type": "code",
   "execution_count": 62,
   "id": "5c60e0b9",
   "metadata": {},
   "outputs": [
    {
     "data": {
      "text/plain": [
       "true"
      ]
     },
     "execution_count": 62,
     "metadata": {
      "text/plain": ""
     },
     "output_type": "execute_result"
    }
   ],
   "source": [
    "IsIntegral(4+s);"
   ]
  },
  {
   "cell_type": "markdown",
   "id": "37f1b66c",
   "metadata": {},
   "source": [
    "The complement of any proper ideal in the semigroups is \"divisor closed\", in the sense that if $x\\in S\\setminus I$, then for every $y\\le_S x$, we have $y\\in S\\setminus I$ (remenber that $a\\le_S b$ if $b-a\\in S$). The converse is also true: the complement of every divisor closed finite set yields is an integral ideal."
   ]
  },
  {
   "cell_type": "code",
   "execution_count": 78,
   "id": "5b158376",
   "metadata": {},
   "outputs": [
    {
     "data": {
      "text/plain": [
       "[ 0, 10, 11, 15, 19, 22, 26, 29, 33, 34, 37, 38, 48 ]"
      ]
     },
     "execution_count": 77,
     "metadata": {
      "text/plain": ""
     },
     "output_type": "execute_result"
    },
    {
     "data": {
      "text/plain": [
       "true"
      ]
     },
     "execution_count": 78,
     "metadata": {
      "text/plain": ""
     },
     "output_type": "execute_result"
    }
   ],
   "source": [
    "s:=NumericalSemigroup(10,11,15,19);;\n",
    "i:=[20,21,25]+s;;\n",
    "d:=Difference(0+s,i);\n",
    "i=IdealByDivisorClosedSet(d,s);"
   ]
  },
  {
   "cell_type": "markdown",
   "id": "f5d34e1b",
   "metadata": {},
   "source": [
    "Any integral ideal can be decomposed in a unique irredundant intersection of irreducible integral ideals. "
   ]
  },
  {
   "cell_type": "code",
   "execution_count": 79,
   "id": "4a2a67ab",
   "metadata": {},
   "outputs": [
    {
     "data": {
      "text/plain": [
       "[ <Ideal of numerical semigroup>, <Ideal of numerical semigroup> ]"
      ]
     },
     "execution_count": 79,
     "metadata": {
      "text/plain": ""
     },
     "output_type": "execute_result"
    }
   ],
   "source": [
    "di:=DecomposeIntegralIdealIntoIrreducibles(i);"
   ]
  },
  {
   "cell_type": "code",
   "execution_count": 80,
   "id": "34c6247e",
   "metadata": {},
   "outputs": [
    {
     "data": {
      "text/plain": [
       "[ 20, 21, 25, 30, 31, 32, 35, 36, 39, 40, 41, 42, 43, 44, 45, 46, 47, 49 ]"
      ]
     },
     "execution_count": 80,
     "metadata": {
      "text/plain": ""
     },
     "output_type": "execute_result"
    }
   ],
   "source": [
    "SmallElements(i);"
   ]
  },
  {
   "cell_type": "code",
   "execution_count": 81,
   "id": "43eda9d1",
   "metadata": {},
   "outputs": [
    {
     "data": {
      "text/plain": [
       "[ [ 10, 11, 20, 21, 22, 25, 26, 29, 30, 31, 32, 33, 35 ],   [ 20, 21, 25, 30, 31, 32, 34, 35, 36, 39, 40, 41, 42, 43, 44, 45, 46, 47,       49 ] ]"
      ]
     },
     "execution_count": 81,
     "metadata": {
      "text/plain": ""
     },
     "output_type": "execute_result"
    }
   ],
   "source": [
    "List(di,SmallElements);"
   ]
  },
  {
   "cell_type": "code",
   "execution_count": 82,
   "id": "3bc5f768",
   "metadata": {},
   "outputs": [
    {
     "data": {
      "text/plain": [
       "true"
      ]
     },
     "execution_count": 82,
     "metadata": {
      "text/plain": ""
     },
     "output_type": "execute_result"
    }
   ],
   "source": [
    "i=Intersection(di);"
   ]
  },
  {
   "cell_type": "markdown",
   "id": "9a95c3b9",
   "metadata": {},
   "source": [
    "## Reduction number and blow-ups"
   ]
  },
  {
   "cell_type": "markdown",
   "id": "3bed873a",
   "metadata": {},
   "source": [
    "For an integral ideal $I$ of a numerical semigroup, the Hilbert function associated to $I$ is the map that associates to every nonnegative integer $n$ the cardinality of $nI\\setminus (n+1)I$."
   ]
  },
  {
   "cell_type": "code",
   "execution_count": 85,
   "id": "7591e7b4",
   "metadata": {},
   "outputs": [
    {
     "data": {
      "text/plain": [
       "function( n ) ... end"
      ]
     },
     "execution_count": 85,
     "metadata": {
      "text/plain": ""
     },
     "output_type": "execute_result"
    }
   ],
   "source": [
    "s:=NumericalSemigroup(4,6,9);;\n",
    "m:=MaximalIdeal(s);;\n",
    "h:=HilbertFunction(m);"
   ]
  },
  {
   "cell_type": "code",
   "execution_count": 86,
   "id": "28447b1c",
   "metadata": {},
   "outputs": [
    {
     "data": {
      "text/plain": [
       "[ 3, 4, 4, 4, 4, 4, 4, 4, 4, 4 ]"
      ]
     },
     "execution_count": 86,
     "metadata": {
      "text/plain": ""
     },
     "output_type": "execute_result"
    }
   ],
   "source": [
    "List([1..10],h);"
   ]
  },
  {
   "cell_type": "markdown",
   "id": "800fddf0",
   "metadata": {},
   "source": [
    "Not to be confused wit the Hilbert series of $S$: $\\sum_{s\\in S}x^s$. "
   ]
  },
  {
   "cell_type": "markdown",
   "id": "cfeef686",
   "metadata": {},
   "source": [
    "There is an integer $n$ such that $\\min(I)+nI=(n+1)I$, which is called the *reduction number* of $I$."
   ]
  },
  {
   "cell_type": "code",
   "execution_count": 87,
   "id": "7dd4fde0",
   "metadata": {},
   "outputs": [
    {
     "data": {
      "text/plain": [
       "2"
      ]
     },
     "execution_count": 87,
     "metadata": {
      "text/plain": ""
     },
     "output_type": "execute_result"
    }
   ],
   "source": [
    "ReductionNumber(m);"
   ]
  },
  {
   "cell_type": "markdown",
   "id": "81a99f39",
   "metadata": {},
   "source": [
    "The blow-up of an ideal is the ideal $\\bigcup_{n\\in\\mathbb{N}} (nI-nI)$. "
   ]
  },
  {
   "cell_type": "code",
   "execution_count": 88,
   "id": "aa5c600f",
   "metadata": {},
   "outputs": [
    {
     "data": {
      "text/plain": [
       "<Ideal of numerical semigroup>"
      ]
     },
     "execution_count": 88,
     "metadata": {
      "text/plain": ""
     },
     "output_type": "execute_result"
    }
   ],
   "source": [
    "bi:=BlowUp([0,2]+s);"
   ]
  },
  {
   "cell_type": "code",
   "execution_count": 89,
   "id": "bb806160",
   "metadata": {},
   "outputs": [
    {
     "data": {
      "text/plain": [
       "[ 0, 2, 4, 6, 8 ]"
      ]
     },
     "execution_count": 89,
     "metadata": {
      "text/plain": ""
     },
     "output_type": "execute_result"
    }
   ],
   "source": [
    "SmallElements(bi);"
   ]
  },
  {
   "cell_type": "markdown",
   "id": "5881c5e5",
   "metadata": {},
   "source": [
    "The blow-up of $S$ is the blow-up of its maximal ideal."
   ]
  },
  {
   "cell_type": "code",
   "execution_count": 91,
   "id": "23ff672a",
   "metadata": {},
   "outputs": [
    {
     "data": {
      "text/plain": [
       "<Numerical semigroup with 2 generators>"
      ]
     },
     "execution_count": 90,
     "metadata": {
      "text/plain": ""
     },
     "output_type": "execute_result"
    },
    {
     "data": {
      "text/plain": [
       "[ 0, 2, 4 ]"
      ]
     },
     "execution_count": 91,
     "metadata": {
      "text/plain": ""
     },
     "output_type": "execute_result"
    }
   ],
   "source": [
    "bs:=BlowUp(s);\n",
    "SmallElements(bs);"
   ]
  },
  {
   "cell_type": "markdown",
   "id": "a0844d91",
   "metadata": {},
   "source": [
    "The Blow-up of a numerical semigroup $S=\\langle n_1,\\dots,n_e\\rangle$ with multiplicity $m=n_1$ is precisely the Lipman semigroup associated to $S$: $\\langle n_2-n_1, n_3-n_1,\\dots,n_e-n_1\\rangle$."
   ]
  },
  {
   "cell_type": "code",
   "execution_count": 92,
   "id": "2faf2cfd",
   "metadata": {},
   "outputs": [
    {
     "data": {
      "text/plain": [
       "true"
      ]
     },
     "execution_count": 92,
     "metadata": {
      "text/plain": ""
     },
     "output_type": "execute_result"
    }
   ],
   "source": [
    "LipmanSemigroup(s)=BlowUp(s);"
   ]
  },
  {
   "cell_type": "code",
   "execution_count": 93,
   "id": "3ec7258f",
   "metadata": {},
   "outputs": [
    {
     "data": {
      "text/plain": [
       "[ 2, 5 ]"
      ]
     },
     "execution_count": 93,
     "metadata": {
      "text/plain": ""
     },
     "output_type": "execute_result"
    }
   ],
   "source": [
    "MinimalGenerators(LipmanSemigroup(s));"
   ]
  },
  {
   "cell_type": "markdown",
   "id": "d8c8e1ce",
   "metadata": {},
   "source": [
    "After repeating the operation of computing Lipman semigroups one reaches $\\mathbb{N}$; the sequence of multiplicities of the semigroups obtained is called the multiplicity sequence of the semigroup."
   ]
  },
  {
   "cell_type": "code",
   "execution_count": 94,
   "id": "ff75b08f",
   "metadata": {},
   "outputs": [
    {
     "data": {
      "text/plain": [
       "[ 4, 2, 2, 1 ]"
      ]
     },
     "execution_count": 94,
     "metadata": {
      "text/plain": ""
     },
     "output_type": "execute_result"
    }
   ],
   "source": [
    "MultiplicitySequence(s);"
   ]
  },
  {
   "cell_type": "markdown",
   "id": "ebb6a78e",
   "metadata": {},
   "source": [
    "The the Ratliff-Rush closure of $I$ is $\\bigcup_{n\\in\\mathbb{N}} ((n+1)I-nI)$."
   ]
  },
  {
   "cell_type": "code",
   "execution_count": 95,
   "id": "003ac9df",
   "metadata": {},
   "outputs": [
    {
     "data": {
      "text/plain": [
       "<Ideal of numerical semigroup>"
      ]
     },
     "execution_count": 95,
     "metadata": {
      "text/plain": ""
     },
     "output_type": "execute_result"
    }
   ],
   "source": [
    "RatliffRushClosure(m);"
   ]
  },
  {
   "cell_type": "markdown",
   "id": "b4313eea",
   "metadata": {},
   "source": [
    "The Ratliff-Rush number of $I$ is the least integer $n$ such that the Ratliff-Rush closure of $I$ equals $(n+1)I-nI$."
   ]
  },
  {
   "cell_type": "code",
   "execution_count": 96,
   "id": "a65b9673",
   "metadata": {},
   "outputs": [
    {
     "data": {
      "text/plain": [
       "1"
      ]
     },
     "execution_count": 96,
     "metadata": {
      "text/plain": ""
     },
     "output_type": "execute_result"
    }
   ],
   "source": [
    "RatliffRushNumber(m);"
   ]
  },
  {
   "cell_type": "code",
   "execution_count": 120,
   "id": "0055c005",
   "metadata": {},
   "outputs": [
    {
     "data": {
      "text/plain": [
       "true"
      ]
     },
     "execution_count": 120,
     "metadata": {
      "text/plain": ""
     },
     "output_type": "execute_result"
    }
   ],
   "source": [
    "RatliffRushClosure(m)=2*m-m;"
   ]
  }
 ],
 "metadata": {
  "kernelspec": {
   "display_name": "GAP 4 (native)",
   "language": "gap",
   "name": "gap-native"
  },
  "language_info": {
   "codemirror_mode": "gap",
   "file_extension": ".g",
   "mimetype": "text/x-gap",
   "name": "GAP 4",
   "nbconvert_exporter": "",
   "pygments_lexer": "gap",
   "version": "4.12.2"
  }
 },
 "nbformat": 4,
 "nbformat_minor": 5
}
