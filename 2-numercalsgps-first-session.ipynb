{
 "cells": [
  {
   "cell_type": "markdown",
   "id": "9df0fd2a",
   "metadata": {},
   "source": [
    "# `NumericalSgps` an introduction - SSC 2023"
   ]
  },
  {
   "cell_type": "markdown",
   "id": "55aa7271",
   "metadata": {},
   "source": [
    "## Gaps and small elements"
   ]
  },
  {
   "cell_type": "markdown",
   "id": "2e4a68a3",
   "metadata": {},
   "source": [
    "Recall that a numerical semigroup $S$ is a subset of the set of nonnegative integers, $\\mathbb{N}$, that is closed under addition, $0\\in S$, and there are only finitely many positive integers not belonging to $S$. The first two contidions imply that $(S,+)$ is a submonoid of $(\\mathbb{N},+)$. \n",
    "\n",
    "The set $\\mathbb{N}\\setminus S$ is known as the set of *gaps* of $S$, denoted $\\operatorname{G}(S)$, and the largest integer not belonging to $S$ is its *Frobenius number*, $\\operatorname{F}(S)$. The *conductor* of $S$, $\\operatorname{C}(S)$ is the smallest integer having the following property: $\\operatorname{C}(S)+\\mathbb{N}\\subseteq S$."
   ]
  },
  {
   "cell_type": "code",
   "execution_count": 1,
   "id": "32195684",
   "metadata": {
    "vscode": {
     "languageId": "gap"
    }
   },
   "outputs": [
    {
     "data": {
      "text/plain": [
       "true"
      ]
     },
     "execution_count": 1,
     "metadata": {
      "text/plain": ""
     },
     "output_type": "execute_result"
    }
   ],
   "source": [
    "LoadPackage(\"num\");"
   ]
  },
  {
   "cell_type": "code",
   "execution_count": 2,
   "id": "ae156b75",
   "metadata": {
    "vscode": {
     "languageId": "gap"
    }
   },
   "outputs": [
    {
     "data": {
      "text/plain": [
       "Numerical semigroup"
      ]
     },
     "execution_count": 2,
     "metadata": {
      "text/plain": ""
     },
     "output_type": "execute_result"
    }
   ],
   "source": [
    "s:=NumericalSemigroupByGaps([1..5]);"
   ]
  },
  {
   "cell_type": "code",
   "execution_count": 3,
   "id": "ae1934c2",
   "metadata": {
    "vscode": {
     "languageId": "gap"
    }
   },
   "outputs": [
    {
     "data": {
      "text/plain": [
       "true"
      ]
     },
     "execution_count": 3,
     "metadata": {
      "text/plain": ""
     },
     "output_type": "execute_result"
    }
   ],
   "source": [
    "10 in s;"
   ]
  },
  {
   "cell_type": "code",
   "execution_count": 4,
   "id": "985a5c09",
   "metadata": {
    "vscode": {
     "languageId": "gap"
    }
   },
   "outputs": [
    {
     "data": {
      "text/plain": [
       "5"
      ]
     },
     "execution_count": 4,
     "metadata": {
      "text/plain": ""
     },
     "output_type": "execute_result"
    }
   ],
   "source": [
    "FrobeniusNumber(s);"
   ]
  },
  {
   "cell_type": "code",
   "execution_count": 5,
   "id": "426c6e41",
   "metadata": {
    "vscode": {
     "languageId": "gap"
    }
   },
   "outputs": [
    {
     "data": {
      "text/plain": [
       "[ 1, 2, 3, 4, 5 ]"
      ]
     },
     "execution_count": 5,
     "metadata": {
      "text/plain": ""
     },
     "output_type": "execute_result"
    }
   ],
   "source": [
    "Gaps(s);"
   ]
  },
  {
   "cell_type": "markdown",
   "id": "487a3e2e",
   "metadata": {},
   "source": [
    "We can see which elements in the semigroup are in a given interval."
   ]
  },
  {
   "cell_type": "code",
   "execution_count": 6,
   "id": "843fba4c",
   "metadata": {
    "vscode": {
     "languageId": "gap"
    }
   },
   "outputs": [
    {
     "data": {
      "text/plain": [
       "[ 0, 6, 7, 8, 9, 10, 11, 12, 13, 14, 15, 16, 17, 18, 19, 20, 21, 22, 23, 24, 25, 26, 27, 28, 29, 30 ]"
      ]
     },
     "execution_count": 6,
     "metadata": {
      "text/plain": ""
     },
     "output_type": "execute_result"
    }
   ],
   "source": [
    "Intersection(s,[0..30]);"
   ]
  },
  {
   "cell_type": "markdown",
   "id": "46b1eb21",
   "metadata": {},
   "source": [
    "Or which is the $i^{th}$ element in the semigroup."
   ]
  },
  {
   "cell_type": "code",
   "execution_count": 7,
   "id": "11408bca",
   "metadata": {
    "vscode": {
     "languageId": "gap"
    }
   },
   "outputs": [
    {
     "data": {
      "text/plain": [
       "0"
      ]
     },
     "execution_count": 7,
     "metadata": {
      "text/plain": ""
     },
     "output_type": "execute_result"
    }
   ],
   "source": [
    "s[1];"
   ]
  },
  {
   "cell_type": "code",
   "execution_count": 8,
   "id": "cf55be28",
   "metadata": {},
   "outputs": [
    {
     "data": {
      "text/plain": [
       "6"
      ]
     },
     "execution_count": 8,
     "metadata": {
      "text/plain": ""
     },
     "output_type": "execute_result"
    }
   ],
   "source": [
    "s[2];"
   ]
  },
  {
   "cell_type": "markdown",
   "id": "be510ce9",
   "metadata": {},
   "source": [
    "Or even, what are the first $n$ elements in the semigroup."
   ]
  },
  {
   "cell_type": "code",
   "execution_count": 9,
   "id": "6401a346",
   "metadata": {
    "vscode": {
     "languageId": "gap"
    }
   },
   "outputs": [
    {
     "data": {
      "text/plain": [
       "[ 0, 6, 7, 8, 9, 10, 11, 12, 13, 14, 15, 16, 17, 18, 19, 20, 21, 22, 23, 24 ]"
      ]
     },
     "execution_count": 9,
     "metadata": {
      "text/plain": ""
     },
     "output_type": "execute_result"
    }
   ],
   "source": [
    "s{[1..20]};"
   ]
  },
  {
   "cell_type": "markdown",
   "id": "937c9224",
   "metadata": {},
   "source": [
    "The *genus* of $S$ is the cardinality of $\\mathbb{N}\\setminus S$, denoted $\\operatorname{g}(S)$."
   ]
  },
  {
   "cell_type": "code",
   "execution_count": 10,
   "id": "2b23da44",
   "metadata": {
    "vscode": {
     "languageId": "gap"
    }
   },
   "outputs": [
    {
     "data": {
      "text/plain": [
       "5"
      ]
     },
     "execution_count": 10,
     "metadata": {
      "text/plain": ""
     },
     "output_type": "execute_result"
    }
   ],
   "source": [
    "Genus(s);"
   ]
  },
  {
   "cell_type": "markdown",
   "id": "02536b43",
   "metadata": {},
   "source": [
    "The set $S\\cap[0,\\operatorname{C}(S)]$ is known as the set of *small elements* of $S$ (if we remove the conductor, then somtimes is called the set of left or sporadic elements)."
   ]
  },
  {
   "cell_type": "code",
   "execution_count": 11,
   "id": "9d983145",
   "metadata": {
    "vscode": {
     "languageId": "gap"
    }
   },
   "outputs": [
    {
     "data": {
      "text/plain": [
       "[ 0, 6 ]"
      ]
     },
     "execution_count": 11,
     "metadata": {
      "text/plain": ""
     },
     "output_type": "execute_result"
    }
   ],
   "source": [
    "SmallElements(s);"
   ]
  },
  {
   "cell_type": "code",
   "execution_count": 12,
   "id": "881da35d",
   "metadata": {
    "vscode": {
     "languageId": "gap"
    }
   },
   "outputs": [
    {
     "data": {
      "text/plain": [
       "true"
      ]
     },
     "execution_count": 12,
     "metadata": {
      "text/plain": ""
     },
     "output_type": "execute_result"
    }
   ],
   "source": [
    "s=NumericalSemigroupBySmallElements([0,6]);"
   ]
  },
  {
   "cell_type": "markdown",
   "id": "f9330665",
   "metadata": {},
   "source": [
    "Denote by $\\operatorname{n}(S)=\\#\\{s \\in S : s<\\operatorname{F}(S)\\}$. It follows that $\\operatorname{n}(S)+\\operatorname{g}(S)=\\operatorname{F}(S)+1$. Since for every $n\\in S$ with $n<\\operatorname{F}(S)$ we have that $\\operatorname{F}(S)-n\\not\\in S$, we have that there are less left elements than gaps, and so the following inequality always holds."
   ]
  },
  {
   "cell_type": "code",
   "execution_count": 13,
   "id": "faf5d493",
   "metadata": {
    "scrolled": true,
    "vscode": {
     "languageId": "gap"
    }
   },
   "outputs": [
    {
     "data": {
      "text/plain": [
       "true"
      ]
     },
     "execution_count": 13,
     "metadata": {
      "text/plain": ""
     },
     "output_type": "execute_result"
    }
   ],
   "source": [
    "Genus(s)>= (FrobeniusNumber(s)+1)/2;"
   ]
  },
  {
   "cell_type": "markdown",
   "id": "1c6a5cea",
   "metadata": {},
   "source": [
    "The intersection of two numerical semigroups is again a numerical semigroup."
   ]
  },
  {
   "cell_type": "code",
   "execution_count": 14,
   "id": "e212d8d0",
   "metadata": {
    "vscode": {
     "languageId": "gap"
    }
   },
   "outputs": [
    {
     "data": {
      "text/plain": [
       "Numerical semigroup"
      ]
     },
     "execution_count": 14,
     "metadata": {
      "text/plain": ""
     },
     "output_type": "execute_result"
    }
   ],
   "source": [
    "t:=NumericalSemigroupBySmallElements([0,5,10,15]);"
   ]
  },
  {
   "cell_type": "code",
   "execution_count": 15,
   "id": "d10c136d",
   "metadata": {
    "vscode": {
     "languageId": "gap"
    }
   },
   "outputs": [
    {
     "data": {
      "text/plain": [
       "Numerical semigroup"
      ]
     },
     "execution_count": 15,
     "metadata": {
      "text/plain": ""
     },
     "output_type": "execute_result"
    }
   ],
   "source": [
    "tis:=Intersection(t,s);"
   ]
  },
  {
   "cell_type": "code",
   "execution_count": 16,
   "id": "d4c9ef0b",
   "metadata": {
    "vscode": {
     "languageId": "gap"
    }
   },
   "outputs": [
    {
     "data": {
      "text/plain": [
       "[ 0, 10, 15 ]"
      ]
     },
     "execution_count": 16,
     "metadata": {
      "text/plain": ""
     },
     "output_type": "execute_result"
    }
   ],
   "source": [
    "SmallElements(tis);"
   ]
  },
  {
   "cell_type": "markdown",
   "id": "9b06a764",
   "metadata": {},
   "source": [
    "Adding a gap to a numerical semigroup does not in general produce a numerical semigroup. There are some gaps that have the property that added to the numerical semigroup yield a new numerical semigroup. If $g$ is one of these gaps and $S$ is our numerical semigroup, then $g+S$ must be a subset of $S\\cup\\{g\\}$, and also $kg\\in S\\cup\\{g\\}$ for every nonnegative integer $k$. This last condition is equivalent to $2g\\in S$. Notice that $\\operatorname{F}(S)$ fulfils these conditions, and so $S\\cup\\{\\operatorname{F}(S)\\}$ is always a numerical semigroup whenever $S\\setminus\\mathbb{N}$. \n",
    "\n",
    "The set of gaps that can be added to a numerical semigroup so that the new set is a numerical semigroup are called *special gaps*."
   ]
  },
  {
   "cell_type": "code",
   "execution_count": 17,
   "id": "1a9c34ba",
   "metadata": {
    "vscode": {
     "languageId": "gap"
    }
   },
   "outputs": [
    {
     "data": {
      "text/plain": [
       "[ 3, 4, 5 ]"
      ]
     },
     "execution_count": 17,
     "metadata": {
      "text/plain": ""
     },
     "output_type": "execute_result"
    }
   ],
   "source": [
    "SpecialGaps(s);"
   ]
  },
  {
   "cell_type": "code",
   "execution_count": 19,
   "id": "2c84b119",
   "metadata": {
    "vscode": {
     "languageId": "gap"
    }
   },
   "outputs": [
    {
     "data": {
      "text/plain": [
       "Numerical semigroup"
      ]
     },
     "execution_count": 18,
     "metadata": {
      "text/plain": ""
     },
     "output_type": "execute_result"
    },
    {
     "data": {
      "text/plain": [
       "[ 0, 4, 6 ]"
      ]
     },
     "execution_count": 19,
     "metadata": {
      "text/plain": ""
     },
     "output_type": "execute_result"
    }
   ],
   "source": [
    "so:=AddSpecialGapOfNumericalSemigroup(4,s);\n",
    "SmallElements(so);"
   ]
  },
  {
   "cell_type": "markdown",
   "id": "055f262d",
   "metadata": {},
   "source": [
    "We can repeat the process until we reach $\\mathbb{N}$, calculating in this way the set of all over-semigroups of our numerical semigroup."
   ]
  },
  {
   "cell_type": "code",
   "execution_count": 21,
   "id": "4d3bac9d",
   "metadata": {
    "vscode": {
     "languageId": "gap"
    }
   },
   "outputs": [
    {
     "data": {
      "text/plain": [
       "[ [ 0 ], [ 0, 2 ], [ 0, 2, 4 ], [ 0, 2, 4, 6 ], [ 0, 3 ], [ 0, 3, 4, 6 ], [ 0, 3, 5 ], [ 0, 3, 6 ], [ 0, 4 ], [ 0, 4, 6 ], [ 0, 5 ], [ 0, 6 ] ]"
      ]
     },
     "execution_count": 21,
     "metadata": {
      "text/plain": ""
     },
     "output_type": "execute_result"
    }
   ],
   "source": [
    "os:=OverSemigroups(s);;\n",
    "List(os,SmallElements);"
   ]
  },
  {
   "cell_type": "code",
   "execution_count": 23,
   "id": "9a0d7936",
   "metadata": {
    "vscode": {
     "languageId": "gap"
    }
   },
   "outputs": [
    {
     "data": {
      "image/svg+xml": [
       "<?xml version=\"1.0\" encoding=\"UTF-8\" standalone=\"no\"?>\n",
       "<!DOCTYPE svg PUBLIC \"-//W3C//DTD SVG 1.1//EN\"\n",
       " \"http://www.w3.org/Graphics/SVG/1.1/DTD/svg11.dtd\">\n",
       "<!-- Generated by graphviz version 2.40.1 (20161225.0304)\n",
       " -->\n",
       "<!-- Title: NSGraph Pages: 1 -->\n",
       "<svg width=\"184pt\" height=\"332pt\"\n",
       " viewBox=\"0.00 0.00 184.29 332.00\" xmlns=\"http://www.w3.org/2000/svg\" xmlns:xlink=\"http://www.w3.org/1999/xlink\">\n",
       "<g id=\"graph0\" class=\"graph\" transform=\"scale(1 1) rotate(0) translate(4 328)\">\n",
       "<title>NSGraph</title>\n",
       "<polygon fill=\"#ffffff\" stroke=\"transparent\" points=\"-4,4 -4,-328 180.293,-328 180.293,4 -4,4\"/>\n",
       "<!-- 1 -->\n",
       "<g id=\"node1\" class=\"node\">\n",
       "<title>1</title>\n",
       "<ellipse fill=\"#d3d3d3\" stroke=\"#000000\" cx=\"83.0969\" cy=\"-306\" rx=\"27\" ry=\"18\"/>\n",
       "<text text-anchor=\"middle\" x=\"83.0969\" y=\"-302.3\" font-family=\"Times,serif\" font-size=\"14.00\" fill=\"#000000\">〈 1 〉</text>\n",
       "</g>\n",
       "<!-- 2 -->\n",
       "<g id=\"node2\" class=\"node\">\n",
       "<title>2</title>\n",
       "<ellipse fill=\"#d3d3d3\" stroke=\"#000000\" cx=\"83.0969\" cy=\"-234\" rx=\"35.194\" ry=\"18\"/>\n",
       "<text text-anchor=\"middle\" x=\"83.0969\" y=\"-230.3\" font-family=\"Times,serif\" font-size=\"14.00\" fill=\"#000000\">〈 2, 3 〉</text>\n",
       "</g>\n",
       "<!-- 1&#45;&gt;2 -->\n",
       "<g id=\"edge1\" class=\"edge\">\n",
       "<title>1&#45;&gt;2</title>\n",
       "<path fill=\"none\" stroke=\"#000000\" d=\"M83.0969,-277.5726C83.0969,-269.1084 83.0969,-260.0593 83.0969,-252.4133\"/>\n",
       "<polygon fill=\"#000000\" stroke=\"#000000\" points=\"79.597,-277.8313 83.0969,-287.8314 86.597,-277.8314 79.597,-277.8313\"/>\n",
       "</g>\n",
       "<!-- 3 -->\n",
       "<g id=\"node3\" class=\"node\">\n",
       "<title>3</title>\n",
       "<ellipse fill=\"#d3d3d3\" stroke=\"#000000\" cx=\"35.0969\" cy=\"-162\" rx=\"35.194\" ry=\"18\"/>\n",
       "<text text-anchor=\"middle\" x=\"35.0969\" y=\"-158.3\" font-family=\"Times,serif\" font-size=\"14.00\" fill=\"#000000\">〈 2, 5 〉</text>\n",
       "</g>\n",
       "<!-- 2&#45;&gt;3 -->\n",
       "<g id=\"edge2\" class=\"edge\">\n",
       "<title>2&#45;&gt;3</title>\n",
       "<path fill=\"none\" stroke=\"#000000\" d=\"M66.0956,-208.4981C59.6815,-198.8768 52.5364,-188.1593 46.724,-179.4407\"/>\n",
       "<polygon fill=\"#000000\" stroke=\"#000000\" points=\"63.2623,-210.558 71.7216,-216.937 69.0867,-206.675 63.2623,-210.558\"/>\n",
       "</g>\n",
       "<!-- 4 -->\n",
       "<g id=\"node4\" class=\"node\">\n",
       "<title>4</title>\n",
       "<ellipse fill=\"#d3d3d3\" stroke=\"#000000\" cx=\"132.0969\" cy=\"-162\" rx=\"44.393\" ry=\"18\"/>\n",
       "<text text-anchor=\"middle\" x=\"132.0969\" y=\"-158.3\" font-family=\"Times,serif\" font-size=\"14.00\" fill=\"#000000\">〈 3, 4, 5 〉</text>\n",
       "</g>\n",
       "<!-- 2&#45;&gt;4 -->\n",
       "<g id=\"edge3\" class=\"edge\">\n",
       "<title>2&#45;&gt;4</title>\n",
       "<path fill=\"none\" stroke=\"#000000\" d=\"M100.4523,-208.4981C107.0001,-198.8768 114.2941,-188.1593 120.2275,-179.4407\"/>\n",
       "<polygon fill=\"#000000\" stroke=\"#000000\" points=\"97.442,-206.7007 94.7092,-216.937 103.229,-210.6391 97.442,-206.7007\"/>\n",
       "</g>\n",
       "<!-- 5 -->\n",
       "<g id=\"node5\" class=\"node\">\n",
       "<title>5</title>\n",
       "<ellipse fill=\"none\" stroke=\"#000000\" cx=\"83.0969\" cy=\"-90\" rx=\"53.8905\" ry=\"18\"/>\n",
       "<text text-anchor=\"middle\" x=\"83.0969\" y=\"-86.3\" font-family=\"Times,serif\" font-size=\"14.00\" fill=\"#000000\">〈 4, 5, 6, 7 〉</text>\n",
       "</g>\n",
       "<!-- 3&#45;&gt;5 -->\n",
       "<g id=\"edge4\" class=\"edge\">\n",
       "<title>3&#45;&gt;5</title>\n",
       "<path fill=\"none\" stroke=\"#000000\" d=\"M52.0548,-136.5631C58.4186,-127.0175 65.5071,-116.3847 71.3019,-107.6924\"/>\n",
       "<polygon fill=\"#000000\" stroke=\"#000000\" points=\"49.1071,-134.675 46.4722,-144.937 54.9314,-138.558 49.1071,-134.675\"/>\n",
       "</g>\n",
       "<!-- 4&#45;&gt;5 -->\n",
       "<g id=\"edge5\" class=\"edge\">\n",
       "<title>4&#45;&gt;5</title>\n",
       "<path fill=\"none\" stroke=\"#000000\" d=\"M114.5876,-136.2721C108.1617,-126.8299 101.0354,-116.3587 95.1896,-107.7689\"/>\n",
       "<polygon fill=\"#000000\" stroke=\"#000000\" points=\"111.7156,-138.2729 120.2354,-144.5708 117.5026,-134.3345 111.7156,-138.2729\"/>\n",
       "</g>\n",
       "<!-- 6 -->\n",
       "<g id=\"node6\" class=\"node\">\n",
       "<title>6</title>\n",
       "<ellipse fill=\"#d3d3d3\" stroke=\"#000000\" cx=\"83.0969\" cy=\"-18\" rx=\"44.393\" ry=\"18\"/>\n",
       "<text text-anchor=\"middle\" x=\"83.0969\" y=\"-14.3\" font-family=\"Times,serif\" font-size=\"14.00\" fill=\"#000000\">〈 4, 5, 7 〉</text>\n",
       "</g>\n",
       "<!-- 5&#45;&gt;6 -->\n",
       "<g id=\"edge6\" class=\"edge\">\n",
       "<title>5&#45;&gt;6</title>\n",
       "<path fill=\"none\" stroke=\"#000000\" d=\"M83.0969,-61.5726C83.0969,-53.1084 83.0969,-44.0593 83.0969,-36.4133\"/>\n",
       "<polygon fill=\"#000000\" stroke=\"#000000\" points=\"79.597,-61.8313 83.0969,-71.8314 86.597,-61.8314 79.597,-61.8313\"/>\n",
       "</g>\n",
       "</g>\n",
       "</svg>\n"
      ]
     },
     "execution_count": 23,
     "metadata": {
      "image/svg+xml": {
       "height": 500,
       "width": 500
      }
     },
     "output_type": "execute_result"
    }
   ],
   "source": [
    "s:=NumericalSemigroup(4,5,7);;\n",
    "JupyterSplashDot(DotOverSemigroups(s));"
   ]
  },
  {
   "cell_type": "markdown",
   "id": "9b42a9b4",
   "metadata": {},
   "source": [
    "## Minimal generators"
   ]
  },
  {
   "cell_type": "markdown",
   "id": "5f2f30e7",
   "metadata": {},
   "source": [
    "Given $A$ a set of positive integers, the submonoid (under addition) of $\\mathbb{N}$ generated by $A$ is the intersection of all submonoids of $\\mathbb{N}$ contanining $A$, which can be described as \n",
    "$$ \\langle A\\rangle = \\left\\{ \\sum_{i=1}^n \\lambda_i a_i : n\\in\\mathbb{N}, \\lambda_i\\in \\mathbb{N}, a_i\\in A\\right\\}.$$\n",
    "The submonoid $\\langle A\\rangle$ is a numerical semigroup if and only if $\\gcd(A)=1$.\n",
    "\n",
    "We say that $A$ is a generating system of $S$ if $S=\\langle A\\rangle$, and that $A$ is a minimal generating system of $S$ if, in addition, no proper subset of $A$ generates $S$. \n",
    "\n",
    "Every numerical semgiroup has a unique minimal generating system: $S^*\\setminus (S^*+S^*)$, with $S^*=S\\setminus\\{0\\}$. Sometimes the elements in the minimal generating system of $S$ are called minimal generators, atoms, irreducible, or primitive elements of $S$. The cardinality of the minimal generating system of $S$ is known as the embedding dimension of $S$, denoted $\\operatorname{e}(S)$."
   ]
  },
  {
   "cell_type": "code",
   "execution_count": 24,
   "id": "42a27a8a",
   "metadata": {
    "vscode": {
     "languageId": "gap"
    }
   },
   "outputs": [
    {
     "data": {
      "text/plain": [
       "[ 4, 5, 7 ]"
      ]
     },
     "execution_count": 24,
     "metadata": {
      "text/plain": ""
     },
     "output_type": "execute_result"
    }
   ],
   "source": [
    "Generators(s);"
   ]
  },
  {
   "cell_type": "code",
   "execution_count": 25,
   "id": "62cce96a",
   "metadata": {
    "vscode": {
     "languageId": "gap"
    }
   },
   "outputs": [
    {
     "data": {
      "text/plain": [
       "[ 4, 5, 7 ]"
      ]
     },
     "execution_count": 25,
     "metadata": {
      "text/plain": ""
     },
     "output_type": "execute_result"
    }
   ],
   "source": [
    "MinimalGenerators(s);"
   ]
  },
  {
   "cell_type": "code",
   "execution_count": 26,
   "id": "b77dd575",
   "metadata": {
    "vscode": {
     "languageId": "gap"
    }
   },
   "outputs": [
    {
     "data": {
      "text/plain": [
       "3"
      ]
     },
     "execution_count": 26,
     "metadata": {
      "text/plain": ""
     },
     "output_type": "execute_result"
    }
   ],
   "source": [
    "EmbeddingDimension(s);"
   ]
  },
  {
   "cell_type": "code",
   "execution_count": 27,
   "id": "c0163211",
   "metadata": {
    "vscode": {
     "languageId": "gap"
    }
   },
   "outputs": [
    {
     "data": {
      "text/plain": [
       "[ 10, 15, 16, 17, 18, 19, 21, 22, 23, 24 ]"
      ]
     },
     "execution_count": 27,
     "metadata": {
      "text/plain": ""
     },
     "output_type": "execute_result"
    }
   ],
   "source": [
    "MinimalGenerators(tis);"
   ]
  },
  {
   "cell_type": "code",
   "execution_count": 28,
   "id": "88b8359f",
   "metadata": {},
   "outputs": [
    {
     "data": {
      "text/plain": [
       "10"
      ]
     },
     "execution_count": 28,
     "metadata": {
      "text/plain": ""
     },
     "output_type": "execute_result"
    }
   ],
   "source": [
    "EmbeddingDimension(tis);"
   ]
  },
  {
   "cell_type": "markdown",
   "id": "96a05e3f",
   "metadata": {},
   "source": [
    "We can define a numerical semigoup by giving one of its generating sets."
   ]
  },
  {
   "cell_type": "code",
   "execution_count": 29,
   "id": "f7f45111",
   "metadata": {
    "vscode": {
     "languageId": "gap"
    }
   },
   "outputs": [
    {
     "data": {
      "text/plain": [
       "Numerical semigroup with 5 generators"
      ]
     },
     "execution_count": 29,
     "metadata": {
      "text/plain": ""
     },
     "output_type": "execute_result"
    }
   ],
   "source": [
    "s:=NumericalSemigroup(3,5,7,10,6);"
   ]
  },
  {
   "cell_type": "code",
   "execution_count": 30,
   "id": "6d545def",
   "metadata": {},
   "outputs": [
    {
     "data": {
      "text/plain": [
       "[ 3, 5, 7 ]"
      ]
     },
     "execution_count": 30,
     "metadata": {
      "text/plain": ""
     },
     "output_type": "execute_result"
    }
   ],
   "source": [
    "MinimalGenerators(s);"
   ]
  },
  {
   "cell_type": "markdown",
   "id": "ff4c9756",
   "metadata": {},
   "source": [
    "The multiplicity of a numerical semigroup $S$ is the least positive integer in $S$ (and coincides with its smallest minimal generator), we will denote it by $\\operatorname{m}(S)$."
   ]
  },
  {
   "cell_type": "code",
   "execution_count": 31,
   "id": "8e72da0c",
   "metadata": {
    "vscode": {
     "languageId": "gap"
    }
   },
   "outputs": [
    {
     "data": {
      "text/plain": [
       "3"
      ]
     },
     "execution_count": 31,
     "metadata": {
      "text/plain": ""
     },
     "output_type": "execute_result"
    }
   ],
   "source": [
    "Multiplicity(s);"
   ]
  },
  {
   "cell_type": "markdown",
   "id": "c36ad9a2",
   "metadata": {},
   "source": [
    "No two minimal generators of $S$ can be congruent modulo de multiplicity, and thus $\\operatorname{e}(S)\\le \\operatorname{m}(S)$."
   ]
  },
  {
   "cell_type": "markdown",
   "id": "935c2ff2",
   "metadata": {},
   "source": [
    "The sum of two numerical semigroups is a numerical semigroup, and the generators of the sum is the union of the generators of the two given numerical semigroups."
   ]
  },
  {
   "cell_type": "code",
   "execution_count": 32,
   "id": "7efe783b",
   "metadata": {
    "vscode": {
     "languageId": "gap"
    }
   },
   "outputs": [
    {
     "data": {
      "text/plain": [
       "Numerical semigroup with 7 generators"
      ]
     },
     "execution_count": 32,
     "metadata": {
      "text/plain": ""
     },
     "output_type": "execute_result"
    }
   ],
   "source": [
    "tus:=t+s;"
   ]
  },
  {
   "cell_type": "code",
   "execution_count": 33,
   "id": "9bad6157",
   "metadata": {
    "vscode": {
     "languageId": "gap"
    }
   },
   "outputs": [
    {
     "data": {
      "text/plain": [
       "true"
      ]
     },
     "execution_count": 33,
     "metadata": {
      "text/plain": ""
     },
     "output_type": "execute_result"
    }
   ],
   "source": [
    "tus=NumericalSemigroup(Union(MinimalGenerators(t),MinimalGenerators(s)));"
   ]
  },
  {
   "cell_type": "markdown",
   "id": "1266b539",
   "metadata": {},
   "source": [
    "An element $n\\in S$ is a minimal generator if and only if $S\\setminus\\{n\\}$ is a minimal generator."
   ]
  },
  {
   "cell_type": "code",
   "execution_count": 34,
   "id": "c73562ea",
   "metadata": {},
   "outputs": [
    {
     "data": {
      "text/plain": [
       "[ 0, 3, 5 ]"
      ]
     },
     "execution_count": 34,
     "metadata": {
      "text/plain": ""
     },
     "output_type": "execute_result"
    }
   ],
   "source": [
    "SmallElements(s);"
   ]
  },
  {
   "cell_type": "code",
   "execution_count": 36,
   "id": "8e2e22ce",
   "metadata": {
    "vscode": {
     "languageId": "gap"
    }
   },
   "outputs": [
    {
     "data": {
      "text/plain": [
       "Numerical semigroup with 5 generators"
      ]
     },
     "execution_count": 35,
     "metadata": {
      "text/plain": ""
     },
     "output_type": "execute_result"
    },
    {
     "data": {
      "text/plain": [
       "[ 5, 6, 7, 8, 9 ]"
      ]
     },
     "execution_count": 36,
     "metadata": {
      "text/plain": ""
     },
     "output_type": "execute_result"
    }
   ],
   "source": [
    "sr:=RemoveMinimalGeneratorFromNumericalSemigroup(3,s);\n",
    "MinimalGenerators(sr);"
   ]
  },
  {
   "cell_type": "markdown",
   "id": "30c565e3",
   "metadata": {},
   "source": [
    "Every time we remove a minimal generator, we obtain a new semigroup whose genus increases by one. If we start with $\\mathbb{N}$, this procedure gives a way to compute the set of numerical semigroups with a given genus. "
   ]
  },
  {
   "cell_type": "code",
   "execution_count": 38,
   "id": "35f24001",
   "metadata": {
    "vscode": {
     "languageId": "gap"
    }
   },
   "outputs": [
    {
     "data": {
      "text/plain": [
       "37396"
      ]
     },
     "execution_count": 38,
     "metadata": {
      "text/plain": ""
     },
     "output_type": "execute_result"
    }
   ],
   "source": [
    "l20:=NumericalSemigroupsWithGenus(20);;\n",
    "Length(l20);"
   ]
  },
  {
   "cell_type": "markdown",
   "id": "635c5379",
   "metadata": {},
   "source": [
    "Let us depict the set of numerical semigroups of genus up to four."
   ]
  },
  {
   "cell_type": "code",
   "execution_count": 43,
   "id": "b10640a2",
   "metadata": {
    "vscode": {
     "languageId": "gap"
    }
   },
   "outputs": [
    {
     "data": {
      "text/plain": [
       "<object>"
      ]
     },
     "execution_count": 43,
     "metadata": {
      "text/plain": ""
     },
     "output_type": "execute_result"
    }
   ],
   "source": [
    "c:=Union(List([0..4],i->NumericalSemigroupsWithGenus(i)));;\n",
    "cc:=Filtered(Cartesian(c,c),p->IsSubset(p[2],p[1]) and IsSubset(MinimalGenerators(p[2]),Difference(p[2],p[1])) \n",
    "                                and Length(Difference(p[2],p[1]))=1);;\n",
    "d:=Domain(List(c,MinimalGenerators));;\n",
    "pairs:=List(cc,p->Tuple([MinimalGenerators(p[1]),MinimalGenerators(p[2])]));;\n",
    "br:=BinaryRelationByElements(d,pairs);"
   ]
  },
  {
   "cell_type": "code",
   "execution_count": 44,
   "id": "af711a3d",
   "metadata": {
    "scrolled": false,
    "vscode": {
     "languageId": "gap"
    }
   },
   "outputs": [
    {
     "data": {
      "image/svg+xml": [
       "<?xml version=\"1.0\" encoding=\"UTF-8\" standalone=\"no\"?>\n",
       "<!DOCTYPE svg PUBLIC \"-//W3C//DTD SVG 1.1//EN\"\n",
       " \"http://www.w3.org/Graphics/SVG/1.1/DTD/svg11.dtd\">\n",
       "<!-- Generated by graphviz version 2.40.1 (20161225.0304)\n",
       " -->\n",
       "<!-- Title: NSGraph Pages: 1 -->\n",
       "<svg width=\"708pt\" height=\"332pt\"\n",
       " viewBox=\"0.00 0.00 708.19 332.00\" xmlns=\"http://www.w3.org/2000/svg\" xmlns:xlink=\"http://www.w3.org/1999/xlink\">\n",
       "<g id=\"graph0\" class=\"graph\" transform=\"scale(1 1) rotate(0) translate(4 328)\">\n",
       "<title>NSGraph</title>\n",
       "<polygon fill=\"#ffffff\" stroke=\"transparent\" points=\"-4,4 -4,-328 704.1938,-328 704.1938,4 -4,4\"/>\n",
       "<!-- 1 -->\n",
       "<g id=\"node1\" class=\"node\">\n",
       "<title>1</title>\n",
       "<ellipse fill=\"none\" stroke=\"#000000\" cx=\"362.0969\" cy=\"-306\" rx=\"27\" ry=\"18\"/>\n",
       "<text text-anchor=\"middle\" x=\"362.0969\" y=\"-302.3\" font-family=\"Times,serif\" font-size=\"14.00\" fill=\"#000000\">[ 1 ]</text>\n",
       "</g>\n",
       "<!-- 2 -->\n",
       "<g id=\"node2\" class=\"node\">\n",
       "<title>2</title>\n",
       "<ellipse fill=\"none\" stroke=\"#000000\" cx=\"362.0969\" cy=\"-234\" rx=\"35.194\" ry=\"18\"/>\n",
       "<text text-anchor=\"middle\" x=\"362.0969\" y=\"-230.3\" font-family=\"Times,serif\" font-size=\"14.00\" fill=\"#000000\">[ 2, 3 ]</text>\n",
       "</g>\n",
       "<!-- 1&#45;&gt;2 -->\n",
       "<g id=\"edge1\" class=\"edge\">\n",
       "<title>1&#45;&gt;2</title>\n",
       "<path fill=\"none\" stroke=\"#000000\" d=\"M362.0969,-277.5726C362.0969,-269.1084 362.0969,-260.0593 362.0969,-252.4133\"/>\n",
       "<polygon fill=\"#000000\" stroke=\"#000000\" points=\"358.597,-277.8313 362.0969,-287.8314 365.597,-277.8314 358.597,-277.8313\"/>\n",
       "</g>\n",
       "<!-- 3 -->\n",
       "<g id=\"node3\" class=\"node\">\n",
       "<title>3</title>\n",
       "<ellipse fill=\"none\" stroke=\"#000000\" cx=\"311.0969\" cy=\"-162\" rx=\"35.194\" ry=\"18\"/>\n",
       "<text text-anchor=\"middle\" x=\"311.0969\" y=\"-158.3\" font-family=\"Times,serif\" font-size=\"14.00\" fill=\"#000000\">[ 2, 5 ]</text>\n",
       "</g>\n",
       "<!-- 2&#45;&gt;3 -->\n",
       "<g id=\"edge2\" class=\"edge\">\n",
       "<title>2&#45;&gt;3</title>\n",
       "<path fill=\"none\" stroke=\"#000000\" d=\"M344.1526,-208.6669C337.1762,-198.8178 329.3703,-187.7977 323.0964,-178.9405\"/>\n",
       "<polygon fill=\"#000000\" stroke=\"#000000\" points=\"341.3743,-210.7998 350.0106,-216.937 347.0865,-206.7537 341.3743,-210.7998\"/>\n",
       "</g>\n",
       "<!-- 6 -->\n",
       "<g id=\"node6\" class=\"node\">\n",
       "<title>6</title>\n",
       "<ellipse fill=\"none\" stroke=\"#000000\" cx=\"413.0969\" cy=\"-162\" rx=\"44.393\" ry=\"18\"/>\n",
       "<text text-anchor=\"middle\" x=\"413.0969\" y=\"-158.3\" font-family=\"Times,serif\" font-size=\"14.00\" fill=\"#000000\">[ 3, 4, 5 ]</text>\n",
       "</g>\n",
       "<!-- 2&#45;&gt;6 -->\n",
       "<g id=\"edge5\" class=\"edge\">\n",
       "<title>2&#45;&gt;6</title>\n",
       "<path fill=\"none\" stroke=\"#000000\" d=\"M380.1607,-208.4981C386.9758,-198.8768 394.5674,-188.1593 400.7431,-179.4407\"/>\n",
       "<polygon fill=\"#000000\" stroke=\"#000000\" points=\"377.1073,-206.7537 374.1832,-216.937 382.8195,-210.7998 377.1073,-206.7537\"/>\n",
       "</g>\n",
       "<!-- 4 -->\n",
       "<g id=\"node4\" class=\"node\">\n",
       "<title>4</title>\n",
       "<ellipse fill=\"none\" stroke=\"#000000\" cx=\"142.0969\" cy=\"-90\" rx=\"35.194\" ry=\"18\"/>\n",
       "<text text-anchor=\"middle\" x=\"142.0969\" y=\"-86.3\" font-family=\"Times,serif\" font-size=\"14.00\" fill=\"#000000\">[ 2, 7 ]</text>\n",
       "</g>\n",
       "<!-- 3&#45;&gt;4 -->\n",
       "<g id=\"edge3\" class=\"edge\">\n",
       "<title>3&#45;&gt;4</title>\n",
       "<path fill=\"none\" stroke=\"#000000\" d=\"M274.5755,-146.4406C242.8877,-132.9405 197.7368,-113.7046 169.1823,-101.5393\"/>\n",
       "<polygon fill=\"#000000\" stroke=\"#000000\" points=\"273.3724,-149.7324 283.9441,-150.432 276.1161,-143.2925 273.3724,-149.7324\"/>\n",
       "</g>\n",
       "<!-- 11 -->\n",
       "<g id=\"node11\" class=\"node\">\n",
       "<title>11</title>\n",
       "<ellipse fill=\"none\" stroke=\"#000000\" cx=\"311.0969\" cy=\"-90\" rx=\"53.8905\" ry=\"18\"/>\n",
       "<text text-anchor=\"middle\" x=\"311.0969\" y=\"-86.3\" font-family=\"Times,serif\" font-size=\"14.00\" fill=\"#000000\">[ 4, 5, 6, 7 ]</text>\n",
       "</g>\n",
       "<!-- 3&#45;&gt;11 -->\n",
       "<g id=\"edge11\" class=\"edge\">\n",
       "<title>3&#45;&gt;11</title>\n",
       "<path fill=\"none\" stroke=\"#000000\" d=\"M311.0969,-133.5726C311.0969,-125.1084 311.0969,-116.0593 311.0969,-108.4133\"/>\n",
       "<polygon fill=\"#000000\" stroke=\"#000000\" points=\"307.597,-133.8313 311.0969,-143.8314 314.597,-133.8314 307.597,-133.8313\"/>\n",
       "</g>\n",
       "<!-- 5 -->\n",
       "<g id=\"node5\" class=\"node\">\n",
       "<title>5</title>\n",
       "<ellipse fill=\"none\" stroke=\"#000000\" cx=\"35.0969\" cy=\"-18\" rx=\"35.194\" ry=\"18\"/>\n",
       "<text text-anchor=\"middle\" x=\"35.0969\" y=\"-14.3\" font-family=\"Times,serif\" font-size=\"14.00\" fill=\"#000000\">[ 2, 9 ]</text>\n",
       "</g>\n",
       "<!-- 4&#45;&gt;5 -->\n",
       "<g id=\"edge4\" class=\"edge\">\n",
       "<title>4&#45;&gt;5</title>\n",
       "<path fill=\"none\" stroke=\"#000000\" d=\"M112.3834,-70.0058C94.6281,-58.0584 72.4839,-43.1576 56.4557,-32.3723\"/>\n",
       "<polygon fill=\"#000000\" stroke=\"#000000\" points=\"110.4504,-72.9238 120.701,-75.6028 114.3584,-67.1162 110.4504,-72.9238\"/>\n",
       "</g>\n",
       "<!-- 14 -->\n",
       "<g id=\"node14\" class=\"node\">\n",
       "<title>14</title>\n",
       "<ellipse fill=\"none\" stroke=\"#000000\" cx=\"142.0969\" cy=\"-18\" rx=\"53.8905\" ry=\"18\"/>\n",
       "<text text-anchor=\"middle\" x=\"142.0969\" y=\"-14.3\" font-family=\"Times,serif\" font-size=\"14.00\" fill=\"#000000\">[ 4, 6, 7, 9 ]</text>\n",
       "</g>\n",
       "<!-- 4&#45;&gt;14 -->\n",
       "<g id=\"edge15\" class=\"edge\">\n",
       "<title>4&#45;&gt;14</title>\n",
       "<path fill=\"none\" stroke=\"#000000\" d=\"M142.0969,-61.5726C142.0969,-53.1084 142.0969,-44.0593 142.0969,-36.4133\"/>\n",
       "<polygon fill=\"#000000\" stroke=\"#000000\" points=\"138.597,-61.8313 142.0969,-71.8314 145.597,-61.8314 138.597,-61.8313\"/>\n",
       "</g>\n",
       "<!-- 7 -->\n",
       "<g id=\"node7\" class=\"node\">\n",
       "<title>7</title>\n",
       "<ellipse fill=\"none\" stroke=\"#000000\" cx=\"418.0969\" cy=\"-90\" rx=\"35.194\" ry=\"18\"/>\n",
       "<text text-anchor=\"middle\" x=\"418.0969\" y=\"-86.3\" font-family=\"Times,serif\" font-size=\"14.00\" fill=\"#000000\">[ 3, 4 ]</text>\n",
       "</g>\n",
       "<!-- 6&#45;&gt;7 -->\n",
       "<g id=\"edge6\" class=\"edge\">\n",
       "<title>6&#45;&gt;7</title>\n",
       "<path fill=\"none\" stroke=\"#000000\" d=\"M415.0514,-133.8545C415.6448,-125.3097 416.2813,-116.1442 416.8182,-108.4133\"/>\n",
       "<polygon fill=\"#000000\" stroke=\"#000000\" points=\"411.5599,-133.6129 414.3586,-143.8314 418.5431,-134.0979 411.5599,-133.6129\"/>\n",
       "</g>\n",
       "<!-- 8 -->\n",
       "<g id=\"node8\" class=\"node\">\n",
       "<title>8</title>\n",
       "<ellipse fill=\"none\" stroke=\"#000000\" cx=\"517.0969\" cy=\"-90\" rx=\"44.393\" ry=\"18\"/>\n",
       "<text text-anchor=\"middle\" x=\"517.0969\" y=\"-86.3\" font-family=\"Times,serif\" font-size=\"14.00\" fill=\"#000000\">[ 3, 5, 7 ]</text>\n",
       "</g>\n",
       "<!-- 6&#45;&gt;8 -->\n",
       "<g id=\"edge7\" class=\"edge\">\n",
       "<title>6&#45;&gt;8</title>\n",
       "<path fill=\"none\" stroke=\"#000000\" d=\"M444.2727,-140.4168C460.457,-129.2122 479.8652,-115.7758 494.5745,-105.5924\"/>\n",
       "<polygon fill=\"#000000\" stroke=\"#000000\" points=\"441.893,-137.8073 435.6633,-146.3771 445.8775,-143.5626 441.893,-137.8073\"/>\n",
       "</g>\n",
       "<!-- 6&#45;&gt;11 -->\n",
       "<g id=\"edge12\" class=\"edge\">\n",
       "<title>6&#45;&gt;11</title>\n",
       "<path fill=\"none\" stroke=\"#000000\" d=\"M382.7017,-140.5446C367.1784,-129.587 348.5935,-116.4682 334.2482,-106.3421\"/>\n",
       "<polygon fill=\"#000000\" stroke=\"#000000\" points=\"380.7763,-143.4696 390.9644,-146.3771 384.8131,-137.7508 380.7763,-143.4696\"/>\n",
       "</g>\n",
       "<!-- 10 -->\n",
       "<g id=\"node10\" class=\"node\">\n",
       "<title>10</title>\n",
       "<ellipse fill=\"none\" stroke=\"#000000\" cx=\"568.0969\" cy=\"-18\" rx=\"44.393\" ry=\"18\"/>\n",
       "<text text-anchor=\"middle\" x=\"568.0969\" y=\"-14.3\" font-family=\"Times,serif\" font-size=\"14.00\" fill=\"#000000\">[ 3, 7, 8 ]</text>\n",
       "</g>\n",
       "<!-- 7&#45;&gt;10 -->\n",
       "<g id=\"edge9\" class=\"edge\">\n",
       "<title>7&#45;&gt;10</title>\n",
       "<path fill=\"none\" stroke=\"#000000\" d=\"M453.0872,-73.2046C479.3041,-60.6205 514.7431,-43.6098 539.3231,-31.8114\"/>\n",
       "<polygon fill=\"#000000\" stroke=\"#000000\" points=\"451.3835,-70.1401 443.8828,-77.6228 454.4126,-76.4507 451.3835,-70.1401\"/>\n",
       "</g>\n",
       "<!-- 7&#45;&gt;14 -->\n",
       "<g id=\"edge16\" class=\"edge\">\n",
       "<title>7&#45;&gt;14</title>\n",
       "<path fill=\"none\" stroke=\"#000000\" d=\"M381.9358,-74.6148C379.3019,-73.677 376.67,-72.7934 374.0969,-72 300.7101,-49.3712 279.6168,-54.5596 205.0969,-36 197.8118,-34.1856 190.0957,-32.1104 182.6549,-30.0293\"/>\n",
       "<polygon fill=\"#000000\" stroke=\"#000000\" points=\"380.7896,-77.9231 391.3813,-78.1843 383.2642,-71.3751 380.7896,-77.9231\"/>\n",
       "</g>\n",
       "<!-- 9 -->\n",
       "<g id=\"node9\" class=\"node\">\n",
       "<title>9</title>\n",
       "<ellipse fill=\"none\" stroke=\"#000000\" cx=\"665.0969\" cy=\"-18\" rx=\"35.194\" ry=\"18\"/>\n",
       "<text text-anchor=\"middle\" x=\"665.0969\" y=\"-14.3\" font-family=\"Times,serif\" font-size=\"14.00\" fill=\"#000000\">[ 3, 5 ]</text>\n",
       "</g>\n",
       "<!-- 8&#45;&gt;9 -->\n",
       "<g id=\"edge8\" class=\"edge\">\n",
       "<title>8&#45;&gt;9</title>\n",
       "<path fill=\"none\" stroke=\"#000000\" d=\"M554.6582,-71.7269C581.2537,-58.7886 616.2171,-41.7793 639.6127,-30.3977\"/>\n",
       "<polygon fill=\"#000000\" stroke=\"#000000\" points=\"553.094,-68.5956 545.6328,-76.1177 556.1563,-74.8903 553.094,-68.5956\"/>\n",
       "</g>\n",
       "<!-- 8&#45;&gt;10 -->\n",
       "<g id=\"edge10\" class=\"edge\">\n",
       "<title>8&#45;&gt;10</title>\n",
       "<path fill=\"none\" stroke=\"#000000\" d=\"M535.3667,-64.2074C542.1082,-54.69 549.5846,-44.1349 555.6881,-35.5182\"/>\n",
       "<polygon fill=\"#000000\" stroke=\"#000000\" points=\"532.3667,-62.3875 529.4426,-72.5708 538.0789,-66.4336 532.3667,-62.3875\"/>\n",
       "</g>\n",
       "<!-- 15 -->\n",
       "<g id=\"node15\" class=\"node\">\n",
       "<title>15</title>\n",
       "<ellipse fill=\"none\" stroke=\"#000000\" cx=\"466.0969\" cy=\"-18\" rx=\"40.0939\" ry=\"18\"/>\n",
       "<text text-anchor=\"middle\" x=\"466.0969\" y=\"-14.3\" font-family=\"Times,serif\" font-size=\"14.00\" fill=\"#000000\">[ 5 .. 9 ]</text>\n",
       "</g>\n",
       "<!-- 8&#45;&gt;15 -->\n",
       "<g id=\"edge18\" class=\"edge\">\n",
       "<title>8&#45;&gt;15</title>\n",
       "<path fill=\"none\" stroke=\"#000000\" d=\"M498.7812,-64.1426C491.9864,-54.55 484.4506,-43.9111 478.3289,-35.2687\"/>\n",
       "<polygon fill=\"#000000\" stroke=\"#000000\" points=\"496.1149,-66.4336 504.7512,-72.5708 501.8271,-62.3875 496.1149,-66.4336\"/>\n",
       "</g>\n",
       "<!-- 12 -->\n",
       "<g id=\"node12\" class=\"node\">\n",
       "<title>12</title>\n",
       "<ellipse fill=\"none\" stroke=\"#000000\" cx=\"258.0969\" cy=\"-18\" rx=\"44.393\" ry=\"18\"/>\n",
       "<text text-anchor=\"middle\" x=\"258.0969\" y=\"-14.3\" font-family=\"Times,serif\" font-size=\"14.00\" fill=\"#000000\">[ 4, 5, 6 ]</text>\n",
       "</g>\n",
       "<!-- 11&#45;&gt;12 -->\n",
       "<g id=\"edge13\" class=\"edge\">\n",
       "<title>11&#45;&gt;12</title>\n",
       "<path fill=\"none\" stroke=\"#000000\" d=\"M292.0617,-64.1408C285.0214,-54.5767 277.2158,-43.9728 270.8644,-35.3446\"/>\n",
       "<polygon fill=\"#000000\" stroke=\"#000000\" points=\"289.2489,-66.2237 297.9958,-72.2022 294.8862,-62.074 289.2489,-66.2237\"/>\n",
       "</g>\n",
       "<!-- 13 -->\n",
       "<g id=\"node13\" class=\"node\">\n",
       "<title>13</title>\n",
       "<ellipse fill=\"none\" stroke=\"#000000\" cx=\"364.0969\" cy=\"-18\" rx=\"44.393\" ry=\"18\"/>\n",
       "<text text-anchor=\"middle\" x=\"364.0969\" y=\"-14.3\" font-family=\"Times,serif\" font-size=\"14.00\" fill=\"#000000\">[ 4, 5, 7 ]</text>\n",
       "</g>\n",
       "<!-- 11&#45;&gt;13 -->\n",
       "<g id=\"edge14\" class=\"edge\">\n",
       "<title>11&#45;&gt;13</title>\n",
       "<path fill=\"none\" stroke=\"#000000\" d=\"M330.1321,-64.1408C337.1724,-54.5767 344.978,-43.9728 351.3293,-35.3446\"/>\n",
       "<polygon fill=\"#000000\" stroke=\"#000000\" points=\"327.3075,-62.074 324.198,-72.2022 332.9449,-66.2237 327.3075,-62.074\"/>\n",
       "</g>\n",
       "<!-- 11&#45;&gt;14 -->\n",
       "<g id=\"edge17\" class=\"edge\">\n",
       "<title>11&#45;&gt;14</title>\n",
       "<path fill=\"none\" stroke=\"#000000\" d=\"M268.2933,-71.7641C239.4728,-59.4856 202.0166,-43.5279 175.4165,-32.1953\"/>\n",
       "<polygon fill=\"#000000\" stroke=\"#000000\" points=\"267.1362,-75.0755 277.7079,-75.7751 269.8799,-68.6356 267.1362,-75.0755\"/>\n",
       "</g>\n",
       "<!-- 11&#45;&gt;15 -->\n",
       "<g id=\"edge19\" class=\"edge\">\n",
       "<title>11&#45;&gt;15</title>\n",
       "<path fill=\"none\" stroke=\"#000000\" d=\"M352.0765,-70.9643C379.1946,-58.3675 414.0467,-42.1781 438.0416,-31.0321\"/>\n",
       "<polygon fill=\"#000000\" stroke=\"#000000\" points=\"350.4323,-67.8688 342.8375,-75.256 353.3813,-74.2174 350.4323,-67.8688\"/>\n",
       "</g>\n",
       "</g>\n",
       "</svg>\n"
      ]
     },
     "execution_count": 44,
     "metadata": {
      "image/svg+xml": {
       "height": 500,
       "width": 500
      }
     },
     "output_type": "execute_result"
    }
   ],
   "source": [
    "JupyterSplashDot(DotBinaryRelation(br));"
   ]
  },
  {
   "cell_type": "markdown",
   "id": "80e49453",
   "metadata": {},
   "source": [
    "For any numerical semigroup $S$ (other than $\\mathbb{N}$), the set $T=S\\cup\\{\\operatorname{F}(S)\\}$ is also a numerical semigroup. The semigroup $S$ is obtained from $T$ by removing a minimal generator larger than its Frobenius number.\n",
    "\n",
    "So if we remove minimal generators larger than the Frobenius number, we still obtain the same numerical semigroups, but the above directed graph becomes a tree."
   ]
  },
  {
   "cell_type": "code",
   "execution_count": 47,
   "id": "29388c55",
   "metadata": {
    "vscode": {
     "languageId": "gap"
    }
   },
   "outputs": [
    {
     "data": {
      "text/plain": [
       "<object>"
      ]
     },
     "execution_count": 47,
     "metadata": {
      "text/plain": ""
     },
     "output_type": "execute_result"
    }
   ],
   "source": [
    "cc:=Filtered(Cartesian(c,c),p->IsSubset(p[2],p[1]) and Difference(p[2],p[1])=[FrobeniusNumber(p[1])]);;\n",
    "pairs:=List(cc,p->Tuple([MinimalGenerators(p[1]),MinimalGenerators(p[2])]));;\n",
    "br:=BinaryRelationByElements(d,pairs);"
   ]
  },
  {
   "cell_type": "code",
   "execution_count": 48,
   "id": "35d13304",
   "metadata": {
    "vscode": {
     "languageId": "gap"
    }
   },
   "outputs": [
    {
     "data": {
      "image/svg+xml": [
       "<?xml version=\"1.0\" encoding=\"UTF-8\" standalone=\"no\"?>\n",
       "<!DOCTYPE svg PUBLIC \"-//W3C//DTD SVG 1.1//EN\"\n",
       " \"http://www.w3.org/Graphics/SVG/1.1/DTD/svg11.dtd\">\n",
       "<!-- Generated by graphviz version 2.40.1 (20161225.0304)\n",
       " -->\n",
       "<!-- Title: NSGraph Pages: 1 -->\n",
       "<svg width=\"708pt\" height=\"332pt\"\n",
       " viewBox=\"0.00 0.00 708.39 332.00\" xmlns=\"http://www.w3.org/2000/svg\" xmlns:xlink=\"http://www.w3.org/1999/xlink\">\n",
       "<g id=\"graph0\" class=\"graph\" transform=\"scale(1 1) rotate(0) translate(4 328)\">\n",
       "<title>NSGraph</title>\n",
       "<polygon fill=\"#ffffff\" stroke=\"transparent\" points=\"-4,4 -4,-328 704.3933,-328 704.3933,4 -4,4\"/>\n",
       "<!-- 1 -->\n",
       "<g id=\"node1\" class=\"node\">\n",
       "<title>1</title>\n",
       "<ellipse fill=\"none\" stroke=\"#000000\" cx=\"127.0969\" cy=\"-306\" rx=\"27\" ry=\"18\"/>\n",
       "<text text-anchor=\"middle\" x=\"127.0969\" y=\"-302.3\" font-family=\"Times,serif\" font-size=\"14.00\" fill=\"#000000\">[ 1 ]</text>\n",
       "</g>\n",
       "<!-- 2 -->\n",
       "<g id=\"node2\" class=\"node\">\n",
       "<title>2</title>\n",
       "<ellipse fill=\"none\" stroke=\"#000000\" cx=\"127.0969\" cy=\"-234\" rx=\"35.194\" ry=\"18\"/>\n",
       "<text text-anchor=\"middle\" x=\"127.0969\" y=\"-230.3\" font-family=\"Times,serif\" font-size=\"14.00\" fill=\"#000000\">[ 2, 3 ]</text>\n",
       "</g>\n",
       "<!-- 1&#45;&gt;2 -->\n",
       "<g id=\"edge1\" class=\"edge\">\n",
       "<title>1&#45;&gt;2</title>\n",
       "<path fill=\"none\" stroke=\"#000000\" d=\"M127.0969,-277.5726C127.0969,-269.1084 127.0969,-260.0593 127.0969,-252.4133\"/>\n",
       "<polygon fill=\"#000000\" stroke=\"#000000\" points=\"123.597,-277.8313 127.0969,-287.8314 130.597,-277.8314 123.597,-277.8313\"/>\n",
       "</g>\n",
       "<!-- 3 -->\n",
       "<g id=\"node3\" class=\"node\">\n",
       "<title>3</title>\n",
       "<ellipse fill=\"none\" stroke=\"#000000\" cx=\"79.0969\" cy=\"-162\" rx=\"35.194\" ry=\"18\"/>\n",
       "<text text-anchor=\"middle\" x=\"79.0969\" y=\"-158.3\" font-family=\"Times,serif\" font-size=\"14.00\" fill=\"#000000\">[ 2, 5 ]</text>\n",
       "</g>\n",
       "<!-- 2&#45;&gt;3 -->\n",
       "<g id=\"edge2\" class=\"edge\">\n",
       "<title>2&#45;&gt;3</title>\n",
       "<path fill=\"none\" stroke=\"#000000\" d=\"M110.0956,-208.4981C103.6815,-198.8768 96.5364,-188.1593 90.724,-179.4407\"/>\n",
       "<polygon fill=\"#000000\" stroke=\"#000000\" points=\"107.2623,-210.558 115.7216,-216.937 113.0867,-206.675 107.2623,-210.558\"/>\n",
       "</g>\n",
       "<!-- 6 -->\n",
       "<g id=\"node6\" class=\"node\">\n",
       "<title>6</title>\n",
       "<ellipse fill=\"none\" stroke=\"#000000\" cx=\"198.0969\" cy=\"-162\" rx=\"44.393\" ry=\"18\"/>\n",
       "<text text-anchor=\"middle\" x=\"198.0969\" y=\"-158.3\" font-family=\"Times,serif\" font-size=\"14.00\" fill=\"#000000\">[ 3, 4, 5 ]</text>\n",
       "</g>\n",
       "<!-- 2&#45;&gt;6 -->\n",
       "<g id=\"edge5\" class=\"edge\">\n",
       "<title>2&#45;&gt;6</title>\n",
       "<path fill=\"none\" stroke=\"#000000\" d=\"M150.3078,-210.4621C160.5121,-200.1141 172.2617,-188.199 181.5569,-178.7729\"/>\n",
       "<polygon fill=\"#000000\" stroke=\"#000000\" points=\"147.7372,-208.0842 143.2079,-217.6621 152.7215,-212.9992 147.7372,-208.0842\"/>\n",
       "</g>\n",
       "<!-- 4 -->\n",
       "<g id=\"node4\" class=\"node\">\n",
       "<title>4</title>\n",
       "<ellipse fill=\"none\" stroke=\"#000000\" cx=\"35.0969\" cy=\"-90\" rx=\"35.194\" ry=\"18\"/>\n",
       "<text text-anchor=\"middle\" x=\"35.0969\" y=\"-86.3\" font-family=\"Times,serif\" font-size=\"14.00\" fill=\"#000000\">[ 2, 7 ]</text>\n",
       "</g>\n",
       "<!-- 3&#45;&gt;4 -->\n",
       "<g id=\"edge3\" class=\"edge\">\n",
       "<title>3&#45;&gt;4</title>\n",
       "<path fill=\"none\" stroke=\"#000000\" d=\"M63.1155,-135.8486C57.3004,-126.3331 50.8776,-115.823 45.65,-107.2687\"/>\n",
       "<polygon fill=\"#000000\" stroke=\"#000000\" points=\"60.2447,-137.8631 68.4457,-144.5708 66.2177,-134.2129 60.2447,-137.8631\"/>\n",
       "</g>\n",
       "<!-- 5 -->\n",
       "<g id=\"node5\" class=\"node\">\n",
       "<title>5</title>\n",
       "<ellipse fill=\"none\" stroke=\"#000000\" cx=\"35.0969\" cy=\"-18\" rx=\"35.194\" ry=\"18\"/>\n",
       "<text text-anchor=\"middle\" x=\"35.0969\" y=\"-14.3\" font-family=\"Times,serif\" font-size=\"14.00\" fill=\"#000000\">[ 2, 9 ]</text>\n",
       "</g>\n",
       "<!-- 4&#45;&gt;5 -->\n",
       "<g id=\"edge4\" class=\"edge\">\n",
       "<title>4&#45;&gt;5</title>\n",
       "<path fill=\"none\" stroke=\"#000000\" d=\"M35.0969,-61.5726C35.0969,-53.1084 35.0969,-44.0593 35.0969,-36.4133\"/>\n",
       "<polygon fill=\"#000000\" stroke=\"#000000\" points=\"31.597,-61.8313 35.0969,-71.8314 38.597,-61.8314 31.597,-61.8313\"/>\n",
       "</g>\n",
       "<!-- 7 -->\n",
       "<g id=\"node7\" class=\"node\">\n",
       "<title>7</title>\n",
       "<ellipse fill=\"none\" stroke=\"#000000\" cx=\"123.0969\" cy=\"-90\" rx=\"35.194\" ry=\"18\"/>\n",
       "<text text-anchor=\"middle\" x=\"123.0969\" y=\"-86.3\" font-family=\"Times,serif\" font-size=\"14.00\" fill=\"#000000\">[ 3, 4 ]</text>\n",
       "</g>\n",
       "<!-- 6&#45;&gt;7 -->\n",
       "<g id=\"edge6\" class=\"edge\">\n",
       "<title>6&#45;&gt;7</title>\n",
       "<path fill=\"none\" stroke=\"#000000\" d=\"M173.4125,-138.303C162.4186,-127.7489 149.7544,-115.5912 139.8817,-106.1134\"/>\n",
       "<polygon fill=\"#000000\" stroke=\"#000000\" points=\"171.0641,-140.9003 180.7019,-145.3008 175.9118,-135.8506 171.0641,-140.9003\"/>\n",
       "</g>\n",
       "<!-- 8 -->\n",
       "<g id=\"node8\" class=\"node\">\n",
       "<title>8</title>\n",
       "<ellipse fill=\"none\" stroke=\"#000000\" cx=\"220.0969\" cy=\"-90\" rx=\"44.393\" ry=\"18\"/>\n",
       "<text text-anchor=\"middle\" x=\"220.0969\" y=\"-86.3\" font-family=\"Times,serif\" font-size=\"14.00\" fill=\"#000000\">[ 3, 5, 7 ]</text>\n",
       "</g>\n",
       "<!-- 6&#45;&gt;8 -->\n",
       "<g id=\"edge7\" class=\"edge\">\n",
       "<title>6&#45;&gt;8</title>\n",
       "<path fill=\"none\" stroke=\"#000000\" d=\"M206.5713,-134.2657C209.2741,-125.42 212.192,-115.8704 214.6233,-107.9134\"/>\n",
       "<polygon fill=\"#000000\" stroke=\"#000000\" points=\"203.2234,-133.2451 203.6484,-143.8314 209.9179,-135.2906 203.2234,-133.2451\"/>\n",
       "</g>\n",
       "<!-- 11 -->\n",
       "<g id=\"node11\" class=\"node\">\n",
       "<title>11</title>\n",
       "<ellipse fill=\"none\" stroke=\"#000000\" cx=\"432.0969\" cy=\"-90\" rx=\"53.8905\" ry=\"18\"/>\n",
       "<text text-anchor=\"middle\" x=\"432.0969\" y=\"-86.3\" font-family=\"Times,serif\" font-size=\"14.00\" fill=\"#000000\">[ 4, 5, 6, 7 ]</text>\n",
       "</g>\n",
       "<!-- 6&#45;&gt;11 -->\n",
       "<g id=\"edge10\" class=\"edge\">\n",
       "<title>6&#45;&gt;11</title>\n",
       "<path fill=\"none\" stroke=\"#000000\" d=\"M243.0595,-148.1653C286.2295,-134.8823 350.8203,-115.0082 392.2062,-102.2741\"/>\n",
       "<polygon fill=\"#000000\" stroke=\"#000000\" points=\"241.9109,-144.8568 233.3824,-151.1429 243.9695,-151.5472 241.9109,-144.8568\"/>\n",
       "</g>\n",
       "<!-- 9 -->\n",
       "<g id=\"node9\" class=\"node\">\n",
       "<title>9</title>\n",
       "<ellipse fill=\"none\" stroke=\"#000000\" cx=\"123.0969\" cy=\"-18\" rx=\"35.194\" ry=\"18\"/>\n",
       "<text text-anchor=\"middle\" x=\"123.0969\" y=\"-14.3\" font-family=\"Times,serif\" font-size=\"14.00\" fill=\"#000000\">[ 3, 5 ]</text>\n",
       "</g>\n",
       "<!-- 8&#45;&gt;9 -->\n",
       "<g id=\"edge8\" class=\"edge\">\n",
       "<title>8&#45;&gt;9</title>\n",
       "<path fill=\"none\" stroke=\"#000000\" d=\"M190.4248,-67.9754C175.1304,-56.6228 156.8789,-43.0753 143.2395,-32.9512\"/>\n",
       "<polygon fill=\"#000000\" stroke=\"#000000\" points=\"188.4536,-70.871 198.5694,-74.0209 192.6258,-65.2502 188.4536,-70.871\"/>\n",
       "</g>\n",
       "<!-- 10 -->\n",
       "<g id=\"node10\" class=\"node\">\n",
       "<title>10</title>\n",
       "<ellipse fill=\"none\" stroke=\"#000000\" cx=\"220.0969\" cy=\"-18\" rx=\"44.393\" ry=\"18\"/>\n",
       "<text text-anchor=\"middle\" x=\"220.0969\" y=\"-14.3\" font-family=\"Times,serif\" font-size=\"14.00\" fill=\"#000000\">[ 3, 7, 8 ]</text>\n",
       "</g>\n",
       "<!-- 8&#45;&gt;10 -->\n",
       "<g id=\"edge9\" class=\"edge\">\n",
       "<title>8&#45;&gt;10</title>\n",
       "<path fill=\"none\" stroke=\"#000000\" d=\"M220.0969,-61.5726C220.0969,-53.1084 220.0969,-44.0593 220.0969,-36.4133\"/>\n",
       "<polygon fill=\"#000000\" stroke=\"#000000\" points=\"216.597,-61.8313 220.0969,-71.8314 223.597,-61.8314 216.597,-61.8313\"/>\n",
       "</g>\n",
       "<!-- 12 -->\n",
       "<g id=\"node12\" class=\"node\">\n",
       "<title>12</title>\n",
       "<ellipse fill=\"none\" stroke=\"#000000\" cx=\"326.0969\" cy=\"-18\" rx=\"44.393\" ry=\"18\"/>\n",
       "<text text-anchor=\"middle\" x=\"326.0969\" y=\"-14.3\" font-family=\"Times,serif\" font-size=\"14.00\" fill=\"#000000\">[ 4, 5, 6 ]</text>\n",
       "</g>\n",
       "<!-- 11&#45;&gt;12 -->\n",
       "<g id=\"edge11\" class=\"edge\">\n",
       "<title>11&#45;&gt;12</title>\n",
       "<path fill=\"none\" stroke=\"#000000\" d=\"M399.5968,-67.9244C383.2586,-56.8268 363.8479,-43.6422 349.0779,-33.6098\"/>\n",
       "<polygon fill=\"#000000\" stroke=\"#000000\" points=\"398.0696,-71.1182 408.3084,-73.8418 402.0028,-65.3277 398.0696,-71.1182\"/>\n",
       "</g>\n",
       "<!-- 13 -->\n",
       "<g id=\"node13\" class=\"node\">\n",
       "<title>13</title>\n",
       "<ellipse fill=\"none\" stroke=\"#000000\" cx=\"432.0969\" cy=\"-18\" rx=\"44.393\" ry=\"18\"/>\n",
       "<text text-anchor=\"middle\" x=\"432.0969\" y=\"-14.3\" font-family=\"Times,serif\" font-size=\"14.00\" fill=\"#000000\">[ 4, 5, 7 ]</text>\n",
       "</g>\n",
       "<!-- 11&#45;&gt;13 -->\n",
       "<g id=\"edge12\" class=\"edge\">\n",
       "<title>11&#45;&gt;13</title>\n",
       "<path fill=\"none\" stroke=\"#000000\" d=\"M432.0969,-61.5726C432.0969,-53.1084 432.0969,-44.0593 432.0969,-36.4133\"/>\n",
       "<polygon fill=\"#000000\" stroke=\"#000000\" points=\"428.597,-61.8313 432.0969,-71.8314 435.597,-61.8314 428.597,-61.8313\"/>\n",
       "</g>\n",
       "<!-- 14 -->\n",
       "<g id=\"node14\" class=\"node\">\n",
       "<title>14</title>\n",
       "<ellipse fill=\"none\" stroke=\"#000000\" cx=\"548.0969\" cy=\"-18\" rx=\"53.8905\" ry=\"18\"/>\n",
       "<text text-anchor=\"middle\" x=\"548.0969\" y=\"-14.3\" font-family=\"Times,serif\" font-size=\"14.00\" fill=\"#000000\">[ 4, 6, 7, 9 ]</text>\n",
       "</g>\n",
       "<!-- 11&#45;&gt;14 -->\n",
       "<g id=\"edge13\" class=\"edge\">\n",
       "<title>11&#45;&gt;14</title>\n",
       "<path fill=\"none\" stroke=\"#000000\" d=\"M466.8141,-68.4514C484.6758,-57.3648 506.0697,-44.0858 522.4247,-33.9345\"/>\n",
       "<polygon fill=\"#000000\" stroke=\"#000000\" points=\"464.4917,-65.7734 457.841,-74.0209 468.1832,-71.7209 464.4917,-65.7734\"/>\n",
       "</g>\n",
       "<!-- 15 -->\n",
       "<g id=\"node15\" class=\"node\">\n",
       "<title>15</title>\n",
       "<ellipse fill=\"none\" stroke=\"#000000\" cx=\"660.0969\" cy=\"-18\" rx=\"40.0939\" ry=\"18\"/>\n",
       "<text text-anchor=\"middle\" x=\"660.0969\" y=\"-14.3\" font-family=\"Times,serif\" font-size=\"14.00\" fill=\"#000000\">[ 5 .. 9 ]</text>\n",
       "</g>\n",
       "<!-- 11&#45;&gt;15 -->\n",
       "<g id=\"edge14\" class=\"edge\">\n",
       "<title>11&#45;&gt;15</title>\n",
       "<path fill=\"none\" stroke=\"#000000\" d=\"M483.3214,-75.4191C519.254,-64.9786 568.3235,-50.2943 611.0969,-36 616.9418,-34.0467 623.1389,-31.8611 629.0887,-29.7044\"/>\n",
       "<polygon fill=\"#000000\" stroke=\"#000000\" points=\"482.1834,-72.1048 473.5511,-78.2475 484.1299,-78.8287 482.1834,-72.1048\"/>\n",
       "</g>\n",
       "</g>\n",
       "</svg>\n"
      ]
     },
     "execution_count": 48,
     "metadata": {
      "image/svg+xml": {
       "height": 500,
       "width": 500
      }
     },
     "output_type": "execute_result"
    }
   ],
   "source": [
    "JupyterSplashDot(DotBinaryRelation(br));"
   ]
  },
  {
   "cell_type": "markdown",
   "id": "2caa5bd9",
   "metadata": {},
   "source": [
    "### Exercise\n",
    "\n",
    "Given a numerical semigroup $S$ and a finite set of nonnegative integers $F$, write a procedure that checks if $S\\cup F$ is a numerical semigroup (do the same for $S\\setminus F$)."
   ]
  },
  {
   "cell_type": "markdown",
   "id": "0d6de445",
   "metadata": {},
   "source": [
    "### Exercise\n",
    "\n",
    "Write a procedure to check Wilf's conjecture for numerical semigroups generated by at most four generators no larger than 40."
   ]
  },
  {
   "cell_type": "markdown",
   "id": "d944e41f",
   "metadata": {},
   "source": [
    "## Apéry sets"
   ]
  },
  {
   "cell_type": "markdown",
   "id": "0e7031d6",
   "metadata": {},
   "source": [
    "One of the most important tools when studying numerical semigroups is the concept of Apéry sets. Given a numerical semigroup $S$ and $n$ a nonzero element of $S$ (one can define also Apéry sets for elements outside $S$, but we are not going to deal with them here), the Apéry set of $n$ in $S$ (or of $S$ with respect to $n$) is the set \n",
    "$$\\operatorname{Ap}(S,n)=\\{ s\\in S : s-n\\not\\in S\\}.$$\n",
    "This set has precisely $n$ elements, one in each congruence class modulo $n$. Moreover, for every $s\\in S$ there exist unique $k\\in \\mathbb{N}$ and $w\\in \\operatorname{Ap}(S,n)$ such that $s=kn+w$. This in particular implies that the embedding dimension of $S$ is always smaller than or equal to its multiplicity, since $(\\operatorname{Ap}(S,n))\\setminus\\{0\\}\\cup\\{n\\}$ is a minimal generating set of $S$ for all $n\\in S\\setminus\\{0\\}$."
   ]
  },
  {
   "cell_type": "code",
   "execution_count": 50,
   "id": "12f7e746",
   "metadata": {
    "vscode": {
     "languageId": "gap"
    }
   },
   "outputs": [
    {
     "data": {
      "text/plain": [
       "[ 0, 25, 26, 15, 16, 41, 6, 31, 20, 21, 10, 35 ]"
      ]
     },
     "execution_count": 50,
     "metadata": {
      "text/plain": ""
     },
     "output_type": "execute_result"
    }
   ],
   "source": [
    "s:=NumericalSemigroup(6,10,15);;\n",
    "AperyList(s,12);"
   ]
  },
  {
   "cell_type": "markdown",
   "id": "a0194713",
   "metadata": {},
   "source": [
    "If the second argument is not given, then the Apéry set is taken with respect to the multiplicity of the numerical semigroup."
   ]
  },
  {
   "cell_type": "code",
   "execution_count": 51,
   "id": "3285ac2a",
   "metadata": {
    "vscode": {
     "languageId": "gap"
    }
   },
   "outputs": [
    {
     "data": {
      "text/plain": [
       "[ 0, 25, 20, 15, 10, 35 ]"
      ]
     },
     "execution_count": 51,
     "metadata": {
      "text/plain": ""
     },
     "output_type": "execute_result"
    }
   ],
   "source": [
    "AperyList(s);"
   ]
  },
  {
   "cell_type": "markdown",
   "id": "01edd84a",
   "metadata": {},
   "source": [
    "The output is arranged in a list, so that in the $i^{th}$ position (starting in 0) we find the least element in $S$ congruent with $i$ modulo $n$. In this way, membership to $S$ becomes trivial once an Apéry set of the semigroup is known. \n",
    "\n",
    "This has some other interesting consequences:"
   ]
  },
  {
   "cell_type": "code",
   "execution_count": 52,
   "id": "e0fa9006",
   "metadata": {
    "vscode": {
     "languageId": "gap"
    }
   },
   "outputs": [
    {
     "data": {
      "text/plain": [
       "true"
      ]
     },
     "execution_count": 52,
     "metadata": {
      "text/plain": ""
     },
     "output_type": "execute_result"
    }
   ],
   "source": [
    "FrobeniusNumber(s)=Maximum(AperyList(s,12))-12;"
   ]
  },
  {
   "cell_type": "code",
   "execution_count": 53,
   "id": "80ea52c0",
   "metadata": {
    "vscode": {
     "languageId": "gap"
    }
   },
   "outputs": [
    {
     "data": {
      "text/plain": [
       "true"
      ]
     },
     "execution_count": 53,
     "metadata": {
      "text/plain": ""
     },
     "output_type": "execute_result"
    }
   ],
   "source": [
    "Genus(s)=(Sum(AperyList(s,12)))/12- (12-1)/2;"
   ]
  },
  {
   "cell_type": "markdown",
   "id": "87d869ba",
   "metadata": {},
   "source": [
    "Let $m$ be the multiplcity of $S$, and let $w_i$ be the element in the Apéry set of $m$ in $S$ congruent with $i$ modulo $m$. We can write $w_i=k_im+i$. The tuple $(k_1,\\dots,k_{m-1})$ is known as the Kunz coordinates of $S$. "
   ]
  },
  {
   "cell_type": "code",
   "execution_count": 54,
   "id": "7a9bf52e",
   "metadata": {
    "vscode": {
     "languageId": "gap"
    }
   },
   "outputs": [
    {
     "data": {
      "text/plain": [
       "[ 4, 3, 2, 1, 5 ]"
      ]
     },
     "execution_count": 54,
     "metadata": {
      "text/plain": ""
     },
     "output_type": "execute_result"
    }
   ],
   "source": [
    "KunzCoordinates(s);"
   ]
  },
  {
   "cell_type": "markdown",
   "id": "456448e3",
   "metadata": {},
   "source": [
    "Notice that every nonnegative integer $x$ can be written as $x=k m+i$ for some $k,n\\in \\mathbb{N}$, with $i<m$. It follows easily that $x\\in S$ if and only if $k\\ge k_i$. So it is at no surprise that the genus is precisely the sum of the Kunz coordinates of $S$, which is just a reformulation of the above statement on the genus.    "
   ]
  },
  {
   "cell_type": "code",
   "execution_count": 55,
   "id": "6def5599",
   "metadata": {
    "vscode": {
     "languageId": "gap"
    }
   },
   "outputs": [
    {
     "data": {
      "text/plain": [
       "true"
      ]
     },
     "execution_count": 55,
     "metadata": {
      "text/plain": ""
     },
     "output_type": "execute_result"
    }
   ],
   "source": [
    "Genus(s)=Sum(KunzCoordinates(s));"
   ]
  },
  {
   "cell_type": "markdown",
   "id": "29f24b6c",
   "metadata": {},
   "source": [
    "Notice that $w_i+w_j\\in S$ for all $i,j$, and thus $w_i+w_j=k_{ij}m+w_{i+j \\bmod n}$, this imposes some conditions on the tuples $(k_1,\\dots,k_{m-1})$ that can be Kunz coordinates of a numerical semigroup with multiplicity $m$. In fact, there is a one to one correspondence between numerical semigroups with multiplicity $m$ and integers points in what it is called the Kunz polyhedron."
   ]
  },
  {
   "cell_type": "code",
   "execution_count": 56,
   "id": "97f087fe",
   "metadata": {
    "vscode": {
     "languageId": "gap"
    }
   },
   "outputs": [
    {
     "data": {
      "text/plain": [
       "[ [ 1, 0, 0, 0, 0, -1 ], [ 0, 1, 0, 0, 0, -1 ], [ 0, 0, 1, 0, 0, -1 ], [ 0, 0, 0, 1, 0, -1 ], [ 0, 0, 0, 0, 1, -1 ], [ 2, -1, 0, 0, 0, 0 ], [ 1, 1, -1, 0, 0, 0 ], [ 1, 0, 1, -1, 0, 0 ], [ 1, 0, 0, 1, -1, 0 ], [ 0, 2, 0, -1, 0, 0 ], [ 0, 1, 1, 0, -1, 0 ], [ -1, 1, 0, 0, 1, 1 ], [ -1, 0, 1, 1, 0, 1 ], [ 0, -1, 1, 0, 1, 1 ], [ 0, -1, 0, 2, 0, 1 ], [ 0, 0, -1, 1, 1, 1 ], [ 0, 0, 0, -1, 2, 1 ] ]"
      ]
     },
     "execution_count": 56,
     "metadata": {
      "text/plain": ""
     },
     "output_type": "execute_result"
    }
   ],
   "source": [
    "KunzPolytope(6);"
   ]
  },
  {
   "cell_type": "markdown",
   "id": "4c51b642",
   "metadata": {},
   "source": [
    "The first elements of this output mean that $x_i\\ge 1$, while for instance $[ 1, 0, 1, -1, 0, 0 ]$ translates to $x_1+x_3\\ge x_4$, and $ [ 0, 0, 0, -1, 2, 1 ]$ to $2x_5+1\\ge x_4$."
   ]
  },
  {
   "cell_type": "code",
   "execution_count": 58,
   "id": "5ec266be",
   "metadata": {
    "vscode": {
     "languageId": "gap"
    }
   },
   "outputs": [],
   "source": [
    "x:=List([1..5],i->Indeterminate(Rationals,i));;\n",
    "x1:=Concatenation(x,[1]);;"
   ]
  },
  {
   "cell_type": "markdown",
   "id": "3b42a152",
   "metadata": {},
   "source": [
    "$w_i+w_j\\ge w_{i+j \\mod m}$"
   ]
  },
  {
   "cell_type": "code",
   "execution_count": 59,
   "id": "ccd84663",
   "metadata": {
    "vscode": {
     "languageId": "gap"
    }
   },
   "outputs": [
    {
     "name": "stdout",
     "output_type": "stream",
     "text": [
      "x_1-1 ≥ 0\n",
      "x_2-1 ≥ 0\n",
      "x_3-1 ≥ 0\n",
      "x_4-1 ≥ 0\n",
      "x_5-1 ≥ 0\n",
      "2*x_1-x_2 ≥ 0\n",
      "x_1+x_2-x_3 ≥ 0\n",
      "x_1+x_3-x_4 ≥ 0\n",
      "x_1+x_4-x_5 ≥ 0\n",
      "2*x_2-x_4 ≥ 0\n",
      "x_2+x_3-x_5 ≥ 0\n",
      "-x_1+x_2+x_5+1 ≥ 0\n",
      "-x_1+x_3+x_4+1 ≥ 0\n",
      "-x_2+x_3+x_5+1 ≥ 0\n",
      "-x_2+2*x_4+1 ≥ 0\n",
      "-x_3+x_4+x_5+1 ≥ 0\n",
      "-x_4+2*x_5+1 ≥ 0\n"
     ]
    }
   ],
   "source": [
    "for eq in KunzPolytope(6) do Print(eq*x1,\" ≥ 0\\n\"); od;"
   ]
  },
  {
   "cell_type": "markdown",
   "id": "df9ba1cf",
   "metadata": {},
   "source": [
    "The genus of a numerical semigroup $S$ with Kunz coordinates $(x_1,\\dots,x_{m-1})$ is $x_1+\\dots+x_{m-1}$. Thus if we want to compute all numerical semigrops withe genus 13 and genus six, we just need to determine the set of integer solutions of the above inequalities and the equation $x_1+\\dots+x_5=13$."
   ]
  },
  {
   "cell_type": "markdown",
   "id": "5a0aec3d",
   "metadata": {},
   "source": [
    "As we have seen, Apéry sets are a useful tool to check membership to the semigroup. If we remove one of the minimal generators, then the corresponding Kunz coordinate will be incresed by one, and if we add a special gap, then the corresponding Kunz coordinate will decrease by one."
   ]
  },
  {
   "cell_type": "code",
   "execution_count": 60,
   "id": "4381f926",
   "metadata": {
    "vscode": {
     "languageId": "gap"
    }
   },
   "outputs": [
    {
     "data": {
      "text/plain": [
       "[ 6, 10, 15 ]"
      ]
     },
     "execution_count": 60,
     "metadata": {
      "text/plain": ""
     },
     "output_type": "execute_result"
    }
   ],
   "source": [
    "MinimalGenerators(s);"
   ]
  },
  {
   "cell_type": "code",
   "execution_count": 61,
   "id": "26a30a74",
   "metadata": {
    "vscode": {
     "languageId": "gap"
    }
   },
   "outputs": [
    {
     "data": {
      "text/plain": [
       "[ 0, 25, 20, 15, 10, 35 ]"
      ]
     },
     "execution_count": 61,
     "metadata": {
      "text/plain": ""
     },
     "output_type": "execute_result"
    }
   ],
   "source": [
    "AperyList(s);"
   ]
  },
  {
   "cell_type": "code",
   "execution_count": 62,
   "id": "d3a3ce7d",
   "metadata": {
    "vscode": {
     "languageId": "gap"
    }
   },
   "outputs": [
    {
     "data": {
      "text/plain": [
       "[ 0, 25, 20, 15, 16, 35 ]"
      ]
     },
     "execution_count": 62,
     "metadata": {
      "text/plain": ""
     },
     "output_type": "execute_result"
    }
   ],
   "source": [
    "AperyList(RemoveMinimalGeneratorFromNumericalSemigroup(10,s));"
   ]
  },
  {
   "cell_type": "code",
   "execution_count": 63,
   "id": "7a0cd37b",
   "metadata": {
    "vscode": {
     "languageId": "gap"
    }
   },
   "outputs": [
    {
     "data": {
      "text/plain": [
       "[ 29 ]"
      ]
     },
     "execution_count": 63,
     "metadata": {
      "text/plain": ""
     },
     "output_type": "execute_result"
    }
   ],
   "source": [
    "SpecialGaps(s);"
   ]
  },
  {
   "cell_type": "code",
   "execution_count": 64,
   "id": "1a52c455",
   "metadata": {
    "vscode": {
     "languageId": "gap"
    }
   },
   "outputs": [
    {
     "data": {
      "text/plain": [
       "[ 0, 25, 20, 15, 10, 29 ]"
      ]
     },
     "execution_count": 64,
     "metadata": {
      "text/plain": ""
     },
     "output_type": "execute_result"
    }
   ],
   "source": [
    "AperyList(AddSpecialGapOfNumericalSemigroup(29,s));"
   ]
  },
  {
   "cell_type": "markdown",
   "id": "6df03955",
   "metadata": {},
   "source": [
    "### Exercise\n",
    "\n",
    "Provide several examples to check how Apéry sets behave under intersections and sums of numerical semigroups."
   ]
  }
 ],
 "metadata": {
  "kernelspec": {
   "display_name": "GAP 4",
   "language": "gap",
   "name": "gap-4"
  },
  "language_info": {
   "codemirror_mode": "gap",
   "file_extension": ".g",
   "mimetype": "text/x-gap",
   "name": "GAP 4",
   "nbconvert_exporter": "",
   "pygments_lexer": "gap",
   "version": "4.10.0"
  }
 },
 "nbformat": 4,
 "nbformat_minor": 5
}
